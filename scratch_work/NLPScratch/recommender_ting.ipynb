{
 "cells": [
  {
   "cell_type": "code",
   "execution_count": 22,
   "metadata": {},
   "outputs": [],
   "source": [
    "import time\n",
    "import requests\n",
    "from bs4 import BeautifulSoup\n",
    "import pymongo\n",
    "import pandas as pd\n",
    "import numpy as np\n",
    "import re\n",
    "\n",
    "from nltk.corpus import stopwords\n",
    "from nltk.stem import WordNetLemmatizer\n",
    "wnlzer = WordNetLemmatizer()\n",
    "\n",
    "\n",
    "import sys\n",
    "import os\n",
    "import csv\n",
    "import shutil\n",
    "from collections import defaultdict\n",
    "\n",
    "from sklearn.feature_extraction.text import TfidfVectorizer\n",
    "from sklearn.naive_bayes import MultinomialNB\n",
    "from sklearn.linear_model import Perceptron\n",
    "from sklearn.svm import LinearSVC\n",
    "from sklearn.model_selection import GridSearchCV\n",
    "from sklearn.pipeline import Pipeline\n",
    "from sklearn.datasets import load_files\n",
    "from sklearn.model_selection import train_test_split\n",
    "from sklearn import metrics\n",
    "import numpy as np\n",
    "import pandas as pd\n",
    "\n",
    "import matplotlib.pyplot as plt\n",
    "\n",
    "source_path = 'test_data'\n",
    "#source_file = 'test_strains_reviews.csv'\n",
    "target_path = '/Users/jordanweil/green_rex/test_data'"
   ]
  },
  {
   "cell_type": "code",
   "execution_count": 23,
   "metadata": {},
   "outputs": [
    {
     "data": {
      "text/plain": [
       "\"reviews = pd.read_csv('test_data/test_strains_reviews.csv')\\nr = reviews.set_index('Unnamed: 0')\""
      ]
     },
     "execution_count": 23,
     "metadata": {},
     "output_type": "execute_result"
    }
   ],
   "source": [
    "\"\"\"reviews = pd.read_csv('test_data/test_strains_reviews.csv')\n",
    "r = reviews.set_index('Unnamed: 0')\"\"\""
   ]
  },
  {
   "cell_type": "code",
   "execution_count": 24,
   "metadata": {},
   "outputs": [],
   "source": [
    "def get_reviews2(l):\n",
    "    \"\"\"Pass in a list of URL's and return them in a mongo db table as a dicitonary with \n",
    "    {'url', 'html'} and their corresponding values\"\"\"\n",
    "    r = requests.get(l)\n",
    "    html = (r.content)\n",
    "    return html"
   ]
  },
  {
   "cell_type": "code",
   "execution_count": 25,
   "metadata": {},
   "outputs": [],
   "source": [
    "# def get_stars_list(d):\n",
    "#     stars = []\n",
    "#     for key, values in d.items():\n",
    "#         soup = BeautifulSoup(values, 'html.parser')\n",
    "#         tags = soup.select(\"div.div.stars\")\n",
    "#         for t in tags:\n",
    "#             stars.append(t.attrs['style'])\n",
    "#     return stars"
   ]
  },
  {
   "cell_type": "code",
   "execution_count": 26,
   "metadata": {},
   "outputs": [],
   "source": [
    "def star_int_conv(s):\n",
    "    star = (int((s[6:].split(';')[0]).strip('px'))/22)\n",
    "    \n",
    "    return star"
   ]
  },
  {
   "cell_type": "code",
   "execution_count": 27,
   "metadata": {},
   "outputs": [],
   "source": [
    "def list_o_strains(i):\n",
    "    LOS = []\n",
    "    Type = []\n",
    "    r = requests.get(i)\n",
    "    soup2 = BeautifulSoup(r.content, 'html.parser')\n",
    "    strains = soup2.find_all('a', class_=\"ga_Explore_Strain_Tile\")\n",
    "    for s in strains:\n",
    "        LOS.append(str(s.attrs['href'])[8:])\n",
    "        Type.append(str(s.attrs['href'])[1:7])\n",
    "    z = list(zip(LOS,Type))\n",
    "    return z"
   ]
  },
  {
   "cell_type": "code",
   "execution_count": 28,
   "metadata": {},
   "outputs": [],
   "source": [
    "def strain_dict_entry(strain, stype, user_id, userstars, userreview, straindict):\n",
    "    if straindict is None:\n",
    "        straindict = {}\n",
    "        \n",
    "    if strain not in straindict:\n",
    "        straindict[strain] = {\n",
    "            \"stype\" : stype,\n",
    "            \"user_rev\" : [] \n",
    "        }\n",
    "        \n",
    "    straindict[strain]['user_rev'].append({'user':user_id,\n",
    "                                         'stars':userstars,\n",
    "                                         'review':userreview\n",
    "                                        })\n",
    "    return straindict"
   ]
  },
  {
   "cell_type": "code",
   "execution_count": 34,
   "metadata": {},
   "outputs": [],
   "source": [
    "def parse_docs2(d):\n",
    "    \"\"\"Parse the HTML docs that we have stored in a dictionary, return as a list.\n",
    "    Also scrape and parse star rating for each review \"\"\"\n",
    "    strain_text= []\n",
    "    star_rate = []\n",
    "    user_name = []\n",
    "    \n",
    "    soup = BeautifulSoup(d, 'html.parser')\n",
    "    revs = soup.find_all('p',class_='strain-review__text') \n",
    "    for r in revs:\n",
    "        text = r.text\n",
    "        remove_punch = re.sub('[^A-Za-z ]' , \"\" ,text )\n",
    "        token = remove_punch.lower().split()\n",
    "        srm_token = [wnlzer.lemmatize(i) for i in token if not i in set(stopwords.words('english'))]\n",
    "        clean_text = \" \".join(srm_token)\n",
    "        strain_text.append(clean_text)\n",
    "        \n",
    "    tags = soup.select(\"div.div.stars\")\n",
    "    for t in tags:\n",
    "        star = t.attrs['style']\n",
    "        star_rate.append(star_int_conv(star))\n",
    "    \n",
    "    users = soup.find_all('div', class_='strain-review__title')\n",
    "    for u in users:\n",
    "        temp = u.find('h2')\n",
    "        user_name.append(temp.text)\n",
    "        \n",
    "    return star_rate, strain_text, user_name"
   ]
  },
  {
   "cell_type": "code",
   "execution_count": 35,
   "metadata": {},
   "outputs": [],
   "source": [
    "def scraper_dummy1(los):\n",
    "    \"\"\"pass in a list of strains to be scraped from Leafly.\n",
    "    returns dictionary keyed by strains w/strain info(reviews) as values\"\"\"\n",
    "    cnt = 0\n",
    "    strain_dict = None\n",
    "    for s in los:\n",
    "        strain = s[0]\n",
    "        stype = s[1]\n",
    "        url = \"https://www.leafly.com/{}/{}/reviews?page=\".format(stype, strain)\n",
    "    \n",
    "        for i in range(1,100):\n",
    "            rev_url=url+str(i)\n",
    "            d = get_reviews2(rev_url)\n",
    "            star, reviews, users = parse_docs2(d)\n",
    "            #print(star)\n",
    "            if len(star) == 0:\n",
    "                break\n",
    "\n",
    "            for userstars, userreview ,user_id in zip(star, reviews, users):\n",
    "                strain_dict = strain_dict_entry(strain, stype, user_id, userstars, userreview, strain_dict)\n",
    "                \n",
    "            \n",
    "            if cnt % 10 == 0:\n",
    "                print(cnt)\n",
    "            cnt +=1\n",
    "            \n",
    "    return strain_dict         "
   ]
  },
  {
   "cell_type": "code",
   "execution_count": 36,
   "metadata": {},
   "outputs": [],
   "source": [
    "test_strains = list_o_strains('https://www.leafly.com/explore')"
   ]
  },
  {
   "cell_type": "code",
   "execution_count": 37,
   "metadata": {},
   "outputs": [
    {
     "data": {
      "text/plain": [
       "[('blue-dream', 'hybrid'),\n",
       " ('sour-diesel', 'sativa'),\n",
       " ('gsc', 'hybrid'),\n",
       " ('green-crack', 'sativa'),\n",
       " ('og-kush', 'hybrid'),\n",
       " ('granddaddy-purple', 'indica'),\n",
       " ('original-glue', 'hybrid'),\n",
       " ('white-widow', 'hybrid'),\n",
       " ('blue-dream', 'hybrid'),\n",
       " ('sour-diesel', 'sativa'),\n",
       " ('gsc', 'hybrid'),\n",
       " ('green-crack', 'sativa'),\n",
       " ('og-kush', 'hybrid'),\n",
       " ('granddaddy-purple', 'indica'),\n",
       " ('original-glue', 'hybrid'),\n",
       " ('white-widow', 'hybrid'),\n",
       " ('jack-herer', 'sativa'),\n",
       " ('bubba-kush', 'indica'),\n",
       " ('pineapple-express', 'hybrid'),\n",
       " ('trainwreck', 'hybrid'),\n",
       " ('ak-47', 'hybrid'),\n",
       " ('durban-poison', 'sativa'),\n",
       " ('northern-lights', 'indica'),\n",
       " ('headband', 'hybrid'),\n",
       " ('blue-cheese', 'indica'),\n",
       " ('strawberry-cough', 'sativa'),\n",
       " ('chemdawg', 'hybrid'),\n",
       " ('purple-kush', 'indica'),\n",
       " ('lemon-haze', 'sativa'),\n",
       " ('super-lemon-haze', 'sativa'),\n",
       " ('grape-ape', 'indica'),\n",
       " ('blueberry', 'indica'),\n",
       " ('alaskan-thunder-fuck', 'sativa'),\n",
       " ('super-silver-haze', 'sativa'),\n",
       " ('blackberry-kush', 'indica'),\n",
       " ('cherry-pie', 'hybrid'),\n",
       " ('master-kush', 'indica'),\n",
       " ('skywalker-og', 'hybrid'),\n",
       " ('cheese', 'hybrid'),\n",
       " ('death-star', 'indica'),\n",
       " ('chocolope', 'sativa'),\n",
       " ('amnesia-haze', 'sativa'),\n",
       " ('tahoe-og', 'hybrid'),\n",
       " ('maui-wowie', 'sativa'),\n",
       " ('platinum-gsc', 'hybrid'),\n",
       " ('harlequin', 'sativa'),\n",
       " ('gods-gift', 'indica'),\n",
       " ('la-confidential', 'indica'),\n",
       " ('agent-orange', 'hybrid'),\n",
       " ('purple-urkle', 'indica'),\n",
       " ('lemon-kush', 'hybrid'),\n",
       " ('mazar-x-blueberry', 'hybrid'),\n",
       " ('golden-goat', 'hybrid'),\n",
       " ('afghan-kush', 'indica'),\n",
       " ('dutch-treat', 'hybrid'),\n",
       " ('hindu-kush', 'indica')]"
      ]
     },
     "execution_count": 37,
     "metadata": {},
     "output_type": "execute_result"
    }
   ],
   "source": [
    "test_strains"
   ]
  },
  {
   "cell_type": "code",
   "execution_count": 86,
   "metadata": {},
   "outputs": [
    {
     "data": {
      "text/plain": [
       "'#Only needs to be ran once\\nd = scraper_dummy1(test_strains)'"
      ]
     },
     "execution_count": 86,
     "metadata": {},
     "output_type": "execute_result"
    }
   ],
   "source": [
    "\"\"\"#Only needs to be ran once\n",
    "d = scraper_dummy1(test_strains)\"\"\"\n",
    "\n",
    "#Already ran it!"
   ]
  },
  {
   "cell_type": "code",
   "execution_count": 39,
   "metadata": {},
   "outputs": [
    {
     "name": "stdout",
     "output_type": "stream",
     "text": [
      "blue-dream 874\n",
      "sour-diesel 1004\n",
      "gsc 560\n",
      "green-crack 486\n",
      "og-kush 394\n",
      "granddaddy-purple 534\n",
      "original-glue 454\n",
      "white-widow 286\n",
      "jack-herer 203\n",
      "bubba-kush 254\n",
      "pineapple-express 237\n",
      "trainwreck 40\n",
      "ak-47 188\n",
      "durban-poison 209\n",
      "northern-lights 179\n",
      "headband 140\n",
      "blue-cheese 115\n",
      "strawberry-cough 140\n",
      "chemdawg 140\n",
      "purple-kush 88\n",
      "lemon-haze 87\n",
      "super-lemon-haze 121\n",
      "grape-ape 156\n",
      "blueberry 111\n",
      "alaskan-thunder-fuck 96\n",
      "super-silver-haze 109\n",
      "blackberry-kush 92\n",
      "cherry-pie 125\n",
      "master-kush 69\n",
      "skywalker-og 30\n",
      "cheese 38\n",
      "death-star 85\n",
      "chocolope 55\n",
      "amnesia-haze 163\n",
      "tahoe-og 77\n",
      "maui-wowie 115\n",
      "platinum-gsc 74\n",
      "harlequin 175\n",
      "gods-gift 76\n",
      "la-confidential 90\n",
      "agent-orange 78\n",
      "purple-urkle 142\n",
      "lemon-kush 63\n",
      "mazar-x-blueberry 30\n",
      "golden-goat 71\n",
      "afghan-kush 52\n",
      "dutch-treat 37\n",
      "hindu-kush 56\n"
     ]
    }
   ],
   "source": [
    "for k in d.keys():\n",
    "    print(k,len(d[k]['user_rev']))"
   ]
  },
  {
   "cell_type": "code",
   "execution_count": 40,
   "metadata": {},
   "outputs": [
    {
     "data": {
      "text/plain": [
       "{'user': 'BenchAdventures',\n",
       " 'stars': 5.0,\n",
       " 'review': 'ive smoking recently dont need anything youre like youll want make sure floor clear tripping hazard laptop away water etcset snack start smoking make sure youre safe environmenthybrids generally put couch indica gsc make fine motor skill especially hard also especially de'}"
      ]
     },
     "execution_count": 40,
     "metadata": {},
     "output_type": "execute_result"
    }
   ],
   "source": [
    "d['gsc']['user_rev'][3]"
   ]
  },
  {
   "cell_type": "code",
   "execution_count": 41,
   "metadata": {},
   "outputs": [],
   "source": [
    "def create_files(d):\n",
    "    cnt = 0\n",
    "    for strain in d.keys():\n",
    "\n",
    "        if not os.path.isdir(os.path.join(target_path, strain)):\n",
    "             os.mkdir(os.path.join(target_path, strain))\n",
    "\n",
    "        for rev in d[strain]['user_rev']:\n",
    "\n",
    "            with open(os.path.join(target_path, strain, strain+'{:05d}.txt'.format(cnt)), mode='w') as strain_file:\n",
    "                strain_file.write(rev['review'])\n",
    "\n",
    "            cnt += 1"
   ]
  },
  {
   "cell_type": "code",
   "execution_count": 42,
   "metadata": {},
   "outputs": [],
   "source": [
    "create_files(d)"
   ]
  },
  {
   "cell_type": "code",
   "execution_count": 43,
   "metadata": {},
   "outputs": [],
   "source": [
    "stopwords_ = \"a,able,about,across,after,all,almost,also,am,among,an,and,any,\\\n",
    "are,as,at,be,because,been,but,by,can,could,dear,did,do,does,either,\\\n",
    "else,ever,every,for,from,get,got,had,has,have,he,her,hers,him,his,\\\n",
    "how,however,i,if,in,into,is,it,its,just,least,let,like,likely,may,\\\n",
    "me,might,most,must,my,neither,no,of,off,often,on,only,or,other,our,\\\n",
    "own,rather,said,say,says,she,should,since,so,some,than,that,the,their,\\\n",
    "them,then,there,these,they,this,tis,to,too,twas,us,wants,was,we,were,\\\n",
    "what,when,where,which,while,who,whom,why,will,with,would,yet,you,your]\".split(',')"
   ]
  },
  {
   "cell_type": "code",
   "execution_count": 77,
   "metadata": {},
   "outputs": [
    {
     "name": "stdout",
     "output_type": "stream",
     "text": [
      "n_samples 9000\n"
     ]
    },
    {
     "name": "stderr",
     "output_type": "stream",
     "text": [
      "/Users/jordanweil/anaconda3/lib/python3.6/site-packages/sklearn/model_selection/_split.py:2053: FutureWarning: You should specify a value for 'cv' instead of relying on the default value. The default value will change from 3 to 5 in version 0.22.\n",
      "  warnings.warn(CV_WARNING, FutureWarning)\n",
      "/Users/jordanweil/anaconda3/lib/python3.6/site-packages/sklearn/model_selection/_split.py:652: Warning: The least populated class in y has only 2 members, which is too few. The minimum number of members in any class cannot be less than n_splits=3.\n",
      "  % (min_groups, self.n_splits)), Warning)\n",
      "/Users/jordanweil/anaconda3/lib/python3.6/site-packages/sklearn/feature_extraction/text.py:301: UserWarning: Your stop_words may be inconsistent with your preprocessing. Tokenizing the stop words generated tokens ['your'] not in stop_words.\n",
      "  'stop_words.' % sorted(inconsistent))\n",
      "/Users/jordanweil/anaconda3/lib/python3.6/site-packages/sklearn/linear_model/stochastic_gradient.py:166: FutureWarning: max_iter and tol parameters have been added in Perceptron in 0.19. If both are left unset, they default to max_iter=5 and tol=None. If tol is not None, max_iter defaults to max_iter=1000. From 0.21, default max_iter will be 1000, and default tol will be 1e-3.\n",
      "  FutureWarning)\n"
     ]
    }
   ],
   "source": [
    "    dataset = load_files(target_path, shuffle=False)\n",
    "    print('n_samples {}'.format(len(dataset.data)))\n",
    "\n",
    "    # split the dataset in training and test set:\n",
    "    docs_train, docs_test, y_train, y_test = train_test_split(\n",
    "        dataset.data, dataset.target, test_size=0.15, random_state=None)\n",
    "\n",
    "    # TASK: Build a vectorizer / classifier pipeline that filters out tokens\n",
    "    # that are too rare or too frequent\n",
    "    clf = Pipeline([\n",
    "        ('vect',TfidfVectorizer(analyzer='character', stop_words=stopwords_)),\n",
    "        ('clf', Perceptron())\n",
    "    ])\n",
    "\n",
    "    # TfidfVectorizer().get_params()\n",
    "    # TASK: Build a grid search to find out whether unigrams or bigrams are\n",
    "    # more useful.\n",
    "    # Fit the pipeline on the training set using grid search for the parameters\n",
    "    parameters = {\n",
    "        'vect__ngram_range': [(1, 1), (1, 5), (1,10),(1,20)],\n",
    "        'vect__analyzer': ['word']#,'char']\n",
    "    }\n",
    "    gs_clf = GridSearchCV(clf, parameters, n_jobs=-1)\n",
    "    cclf = gs_clf.fit(docs_train, y_train)"
   ]
  },
  {
   "cell_type": "code",
   "execution_count": 78,
   "metadata": {},
   "outputs": [
    {
     "name": "stdout",
     "output_type": "stream",
     "text": [
      "{'vect__analyzer': 'word', 'vect__ngram_range': (1, 5)}\n",
      "0.5525925925925926\n",
      "                      precision    recall  f1-score   support\n",
      "\n",
      "  .ipynb_checkpoints       0.00      0.00      0.00         0\n",
      "         afghan-kush       0.25      0.10      0.14        10\n",
      "        agent-orange       0.17      0.11      0.13         9\n",
      "               ak-47       0.47      0.26      0.33        31\n",
      "alaskan-thunder-fuck       0.22      0.17      0.19        12\n",
      "        amnesia-haze       0.46      0.22      0.30        27\n",
      "     blackberry-kush       0.00      0.00      0.00        11\n",
      "         blue-cheese       0.42      0.23      0.29        22\n",
      "          blue-dream       0.84      0.88      0.86       129\n",
      "           blueberry       0.33      0.14      0.20        14\n",
      "          bubba-kush       0.26      0.19      0.22        47\n",
      "              cheese       0.00      0.00      0.00         4\n",
      "            chemdawg       0.17      0.06      0.08        18\n",
      "          cherry-pie       0.47      0.54      0.50        13\n",
      "           chocolope       0.00      0.00      0.00         7\n",
      "          death-star       0.06      0.11      0.08         9\n",
      "       durban-poison       0.42      0.28      0.33        36\n",
      "         dutch-treat       0.33      0.29      0.31         7\n",
      "           gods-gift       0.11      0.30      0.16        10\n",
      "         golden-goat       0.05      0.12      0.07         8\n",
      "   granddaddy-purple       0.67      0.81      0.73        79\n",
      "           grape-ape       0.43      0.32      0.37        28\n",
      "         green-crack       0.83      0.86      0.84        79\n",
      "                 gsc       0.89      0.87      0.88        71\n",
      "           harlequin       0.41      0.55      0.47        31\n",
      "            headband       0.50      0.19      0.28        21\n",
      "          hindu-kush       0.00      0.00      0.00         9\n",
      "          jack-herer       0.39      0.26      0.31        35\n",
      "     la-confidential       0.38      0.20      0.26        15\n",
      "          lemon-haze       0.10      0.08      0.09        13\n",
      "          lemon-kush       0.44      0.29      0.35        14\n",
      "         master-kush       0.12      0.12      0.12         8\n",
      "          maui-wowie       0.50      0.29      0.37        17\n",
      "   mazar-x-blueberry       0.00      0.00      0.00         5\n",
      "     northern-lights       0.19      0.23      0.20        22\n",
      "             og-kush       0.77      0.96      0.86        56\n",
      "       original-glue       0.86      0.88      0.87        69\n",
      "   pineapple-express       0.42      0.31      0.36        32\n",
      "        platinum-gsc       0.33      0.08      0.13        12\n",
      "         purple-kush       0.38      0.30      0.33        10\n",
      "        purple-urkle       0.07      0.05      0.06        20\n",
      "        skywalker-og       0.00      0.00      0.00         5\n",
      "         sour-diesel       0.76      0.90      0.82       151\n",
      "    strawberry-cough       0.31      0.39      0.35        23\n",
      "    super-lemon-haze       0.27      0.14      0.19        21\n",
      "   super-silver-haze       0.57      0.22      0.32        18\n",
      "            tahoe-og       0.25      0.14      0.18        14\n",
      "          trainwreck       0.08      0.20      0.11         5\n",
      "         white-widow       0.82      0.86      0.84        43\n",
      "\n",
      "           micro avg       0.55      0.55      0.55      1350\n",
      "           macro avg       0.34      0.30      0.30      1350\n",
      "        weighted avg       0.56      0.55      0.55      1350\n",
      "\n"
     ]
    },
    {
     "name": "stderr",
     "output_type": "stream",
     "text": [
      "/Users/jordanweil/anaconda3/lib/python3.6/site-packages/sklearn/metrics/classification.py:1145: UndefinedMetricWarning: Recall and F-score are ill-defined and being set to 0.0 in labels with no true samples.\n",
      "  'recall', 'true', average, warn_for)\n"
     ]
    },
    {
     "data": {
      "image/png": "[encoded data removed]",
      "text/plain": [
       "<Figure size 288x288 with 1 Axes>"
      ]
     },
     "metadata": {
      "needs_background": "light"
     },
     "output_type": "display_data"
    }
   ],
   "source": [
    "# TASK: Predict the outcome on the testing set in a variable named y_predicted\n",
    "y_predicted = gs_clf.predict(docs_test)\n",
    "\n",
    "print(gs_clf.best_params_)\n",
    "print(cclf.score(docs_test, y_test))\n",
    "\n",
    "# Print the classification report\n",
    "print(metrics.classification_report(y_test, y_predicted,\n",
    "                                    target_names=dataset.target_names))\n",
    "\n",
    "# Plot the confusion matrix\n",
    "cm = metrics.confusion_matrix(y_test, y_predicted)\n",
    "#print(cm)\n",
    "\n",
    "plt.matshow(cm, cmap=plt.cm.cool)\n",
    "plt.show()"
   ]
  },
  {
   "cell_type": "code",
   "execution_count": 84,
   "metadata": {},
   "outputs": [
    {
     "name": "stdout",
     "output_type": "stream",
     "text": [
      "To feel these like (yawn) try smoking purple-urkle\n",
      "To feel these like (smile) try smoking amnesia-haze\n",
      "To feel these like (happy) try smoking blue-dream\n",
      "To feel these like (fun) try smoking ak-47\n"
     ]
    }
   ],
   "source": [
    "test_strings = [\n",
    "    u'yawn',\n",
    "    u'smile',\n",
    "    u'happy',\n",
    "    u'fun'\n",
    "]\n",
    "\n",
    "predicted = cclf.predict(test_strings)\n",
    "\n",
    "for s, p in zip(test_strings, predicted):\n",
    "    print(u'To feel these like ({}) try smoking {}'.format(s, dataset.target_names[p]))\n"
   ]
  },
  {
   "cell_type": "code",
   "execution_count": null,
   "metadata": {},
   "outputs": [],
   "source": []
  }
 ],
 "metadata": {
  "kernelspec": {
   "display_name": "Python 3",
   "language": "python",
   "name": "python3"
  },
  "language_info": {
   "codemirror_mode": {
    "name": "ipython",
    "version": 3
   },
   "file_extension": ".py",
   "mimetype": "text/x-python",
   "name": "python",
   "nbconvert_exporter": "python",
   "pygments_lexer": "ipython3",
   "version": "3.6.8"
  }
 },
 "nbformat": 4,
 "nbformat_minor": 2
}
