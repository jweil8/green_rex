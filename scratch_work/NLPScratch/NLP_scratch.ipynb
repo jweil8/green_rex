{
 "cells": [
  {
   "cell_type": "code",
   "execution_count": 2,
   "metadata": {},
   "outputs": [
    {
     "name": "stderr",
     "output_type": "stream",
     "text": [
      "[nltk_data] Downloading package stopwords to\n",
      "[nltk_data]     /Users/jordanweil/nltk_data...\n",
      "[nltk_data]   Package stopwords is already up-to-date!\n",
      "[nltk_data] Downloading package punkt to\n",
      "[nltk_data]     /Users/jordanweil/nltk_data...\n",
      "[nltk_data]   Package punkt is already up-to-date!\n",
      "[nltk_data] Downloading package averaged_perceptron_tagger to\n",
      "[nltk_data]     /Users/jordanweil/nltk_data...\n",
      "[nltk_data]   Package averaged_perceptron_tagger is already up-to-\n",
      "[nltk_data]       date!\n",
      "[nltk_data] Downloading package maxent_treebank_pos_tagger to\n",
      "[nltk_data]     /Users/jordanweil/nltk_data...\n",
      "[nltk_data]   Package maxent_treebank_pos_tagger is already up-to-\n",
      "[nltk_data]       date!\n"
     ]
    }
   ],
   "source": [
    "import pandas as pd\n",
    "import numpy as np \n",
    "import itertools\n",
    "import nltk\n",
    "\n",
    "\n",
    "import matplotlib\n",
    "import matplotlib.pyplot as plt\n",
    "%matplotlib inline\n",
    "\n",
    "nltk.download('stopwords')\n",
    "nltk.download('punkt')\n",
    "nltk.download('averaged_perceptron_tagger')\n",
    "nltk.download('maxent_treebank_pos_tagger')\n",
    "from nltk.tokenize import word_tokenize\n",
    "from nltk.tokenize import sent_tokenize\n",
    "import unicodedata\n",
    "from sklearn.feature_extraction.text import CountVectorizer\n",
    "from sklearn.feature_extraction.text import TfidfVectorizer\n",
    "from sklearn.metrics.pairwise import cosine_similarity, cosine_distances\n",
    "from sklearn.cluster import AgglomerativeClustering"
   ]
  },
  {
   "cell_type": "code",
   "execution_count": 7,
   "metadata": {},
   "outputs": [],
   "source": [
    "reviews = pd.read_csv('../../test_data/test_strains_reviews.csv')"
   ]
  },
  {
   "cell_type": "code",
   "execution_count": 21,
   "metadata": {},
   "outputs": [
    {
     "data": {
      "text/plain": [
       "Index(['hybrid/blue-dream', 'sativa/sour-diesel', 'hybrid/gsc',\n",
       "       'sativa/green-crack', 'hybrid/og-kush', 'indica/granddaddy-purple',\n",
       "       'hybrid/original-glue', 'hybrid/white-widow'],\n",
       "      dtype='object', name='Unnamed: 0')"
      ]
     },
     "execution_count": 21,
     "metadata": {},
     "output_type": "execute_result"
    }
   ],
   "source": [
    "r = reviews.set_index('Unnamed: 0')\n",
    "rr = r.T\n",
    "\n",
    "rr.columns"
   ]
  },
  {
   "cell_type": "markdown",
   "metadata": {},
   "source": [
    "## Create some lists of reviews"
   ]
  },
  {
   "cell_type": "code",
   "execution_count": 18,
   "metadata": {},
   "outputs": [],
   "source": [
    "blu_dream = rr['hybrid/blue-dream'].dropna().tolist()"
   ]
  },
  {
   "cell_type": "code",
   "execution_count": 19,
   "metadata": {},
   "outputs": [
    {
     "data": {
      "text/plain": [
       "['best looking bud opinion im love dense bud like pe strong smell difficult mask strain staple smoker bucket list definitely something try atleast fairly strong uniqe attribute still average topshelf smoke',\n",
       " 'ohhhhhh sour diesel friend oooooo boy enjoying one big hit pipe away friend damnso took minute taking hit felt effect tell liking muchi would say right im uplifted lot happier happier thats happiness close ecstatic happiness make',\n",
       " 'shit fucking amazing stress motivation ended writing short book god know',\n",
       " 'star plus good adhd especially short euphoria wear musical upbeat moderate paranoia metacognitively checked appetite suppressant',\n",
       " 'strong high long lasting sticky',\n",
       " 'always favorite love skunky taste find best strain maintain productive day use unwinding weed',\n",
       " 'one favorite sativas classic enough said',\n",
       " 'sour diesel extremely potent pungent strain grows extremely well fast arkansas',\n",
       " 'sour solid sativa smoke little harsh beautiful fat bud easy come there reason popular smoke lot stoned',\n",
       " 'tasty acquired local lansing michigan grower uplifting ready start day',\n",
       " 'would bang really good nerve pain joint pain',\n",
       " 'favorite strain trying many different one strain long lasting relaxing yet uplifting sens highly enhanced',\n",
       " 'probably favorite looksmelltaste gooooooood',\n",
       " 'muy rica agradable para la garganta con unos fume al instante te da energa muy buena para convivir bailar rer energtica',\n",
       " 'smell good like lime taste like also moment took three big hit bong feal clear headed like problem feal energetic',\n",
       " 'great strain awesome flavour really great smell nug great high really great around definitely life reputation',\n",
       " 'shit got fucked dog like crack like amazing know fam',\n",
       " 'personally love strain broken leg pain healing took away finally gave break constant pain however recommend nighttime smoking unless ok staying late random thing like cleaning fixing thing high beautiful calm peaceful could hear bird singing truly treat get hand',\n",
       " 'im trying strain right perk im enjoying far im task oriented person true sativa strain similar green crack smoke strain think pretty dry irritating throat also wanted note headache earlier sessionit good sciatica back foot paini energy think quickly act wake',\n",
       " 'strain ideal strain get amazing feeling still energetic',\n",
       " 'classic heavy hitting sativa took best thing oldschool skunk genetics combined funky mystery chemdawg youd guy invented sour dieselsmells like gasfunkskunk hint citrus specific recognizable look term lightgreen coloring random darkergreen splotch lowkey orangebrown hair sati',\n",
       " 'first time ive gotten privilege smoke bud disappointedsour diesel sativa dominant strain life praise beautiful light green bud covered trichomes orange hair smell pungent smell diesel undertome lime taste mirror smell fairly well enjoyablethe high simply fantastic cerebral le',\n",
       " 'strain make tired hungry foggy headed feeling know lot people like sour uplifting property opposite also strain make feel really depressed lethargic dr suggested sour adhd ive adderall year help adhd symptom',\n",
       " 'strain beginner youre everyday iser youll definitely feel high sour diesel socially stilumating high youll definitely love day time high anxiety get perfect balance functional high',\n",
       " 'strain make happy carefree definitely one favorite',\n",
       " 'im really impress strain dont feel happier feeling slightly blah push get thing done disappointed hey im quest find right strain work right',\n",
       " 'always best strain pain',\n",
       " 'need say sour diesel distillate nectar god might express value place material sweet sativa ideal morning routine wake get going good cup coffee would recently flower also im telling something magical strainonce getting hand real thing trusted source th',\n",
       " 'uplifting strain smoked work helped get business',\n",
       " 'rich well wrapped around head high smell great taste great one favorite',\n",
       " 'really like particular strain sour seemed helped focus le stress depression heady buzz sits right behind eye nice leave feeling little dizzy eye strain clear thought high wont leave deep thought slow highly recommend sour basic sativa wont inhibit anything avoiding situation e',\n",
       " 'one powerul strain ever vaporized could taste somewhat sour taste inhaling bud dense dank piney scent slight diesel smell everyone talk diesel part boquet overpowering high hit hard fast right behind eye psychoactive euphoric uplifting pick sound well would describ',\n",
       " 'sour diesel strain work arthritis symptomsi also appreciate balanced high find pleasant typicallyi prefer indica day fan strainmy lp aurora rate sour diesel thcbut still nicefrom medical perspectiveit help depression soft tissue pain well appetite loss nothing fully eliminate joint p',\n",
       " 'pain',\n",
       " 'give strain sour diesel classic one first strain tried along white rhino still great smoke today whats funny watching drug inc showed bunch people going nut sour diesel like strain good bunch people dont medical card know crave strain thats pretty good indicator popular',\n",
       " 'pretty noob sativas strain help fight social axiaty',\n",
       " 'got fl medical market form fullspectrum coextracted vape cart absolutely amazing taste potency incredible second first inhale literally feel tingle back head get flower powerful entourage effect strain powerful fullspec concentrate wonderful delivery sys',\n",
       " 'favorite certainly well rounded strain noticed bud werent condensed airy light',\n",
       " 'smoked sd right second time first time didnt enjoy anxiety may due smoking first real sativa strain time around took one deep toke anxiety like first time overstocked oddly enough feel high time feel euphoric also first strain actually ever given',\n",
       " 'one alltime favorite',\n",
       " 'strain made feel slightly uncomfortable time due quick acting high however subsides able enjoy distinct taste smell strain receive intense unfortunately brief head high',\n",
       " 'love',\n",
       " 'perfect strain relaxed energetic positive focused dont wanna go day without ever',\n",
       " 'nothing touch legendary strain ive tried sooo many damn strain journey cannabis could never find one topped sour diesel mention first strain ever smoked continued deliver till day euphoria stepping wonderland joy peace tranquility one shop dispensary perfect add',\n",
       " 'laugheven worst situation sour diesel',\n",
       " 'great high lasted hour soon exhaled felt medicine kicking best bud ive perfect wake n bake sesh better coffee',\n",
       " 'ah legendary yet classic sour diesel say amazing strain strain phenomenal strain amazing pick ever need one truly great example sativa smelled strain life name smelled diesel smelled pungent earthy aroma well strain stink love amazing thing',\n",
       " 'sour diesel great really help adhd keep focus maximum keeping spirit uplifted thought happy well wouldnt classify patrol gasoline chemdog side provide side sativa indica youre looking break creative roadblock put right track sour diesel accomplish f',\n",
       " 'got sour diesel favorite location richardson remediesin caribou maine thought great tasteingan gave great uplifting effect got bedan started help wife clean cause neck problem hard time leaving room give effect want something love thatan also notice helped bipolar disorder cause take',\n",
       " 'long lasting buzz old school feel energizing cerebral',\n",
       " 'far favorite strain involves invigorating full body cerebral high feel uplifted great hour although dont recommend beginner really strong stuff bud dense usually use really sharp blade scissors cut experienced though sure true roll high cerebral al',\n",
       " 'tricky strain sour find real sour lineage come east coast grew one elusive hard find strain original sour knock generic b everywhere dont harsh strain cause due popularity elusiveness find many people tried recreate dont get fooled leafly',\n",
       " 'one favorite usually lighter colored leaf ligh energetic feel fun walk around smoking',\n",
       " 'im high af bruh',\n",
       " 'happy energetic',\n",
       " 'stuff fastacting potent heady high longlasting took puff took four hour nap woke still feeling absolutely blunted good fighting nausea lack appetite cuz get munchies pretty hardcore completely destroyed anxiety midattack giggling good ten minute thirty minute later good stuff',\n",
       " 'work art crafted god',\n",
       " 'love love love sd perfect medicine one absolute go relieving stress anxiety',\n",
       " 'ok brought gram good dieselunfortunately couldnt finish paranoia got big timei almost went er dont know big panic attack really love strong smell lucky enough traded partner hybrid gg gave sour diesel who sensitive sativa please careful awesome sour dieselwill paranoid',\n",
       " 'sour always dank strain ive smoked quite bit flower nd time ive shatter always good tho love texture real easy stretch take dab im illegal state anyone else tried sour shatter yall think',\n",
       " 'sour diesel excellent feelgoodalloverhigh make aware tactile physical contact sensation feel energetic little nappysleepy try sd next time massage therapy appointment',\n",
       " 'sour easily top favorite strain high perfect anytime use due strong yet clear high doesnt leave couch locked yet still help relax great relieving anxietystress sativaindica hybrid always one time great',\n",
       " 'one favorite strain straight diesel funk citrus note absolutely classic happy high great longevity',\n",
       " 'great strain stuck rock hard cock',\n",
       " 'im adderall far beneficial strain ive classic stimulating sativa also soothing calming euphoric better able focus completing task longer dependent adderall help keep adult adhd control suddenly fascinated whatever flow mind sens heightened im horny forever goto str',\n",
       " 'really good classic strain would recommend anyone like daytime use smoke',\n",
       " 'shit definitely top make active instead lazy make creative diesel sour taste',\n",
       " 'straight fire strain love diesel skunk flavour high thc got chronickushcoca',\n",
       " 'one im getting super baked strain smell citrus pine diesel gas hit nose take away time high school got stoned couldnt move friend parent house living room everyone else playing teken mom dad keep asking thing think breathing baked',\n",
       " 'okay smoke mostly m good strain almost full blown panic attack didnt help leg spasm either favorite',\n",
       " 'im still rookie cannabis rec dispensary starting open ive tried handful strain sour revelation still prefer body high indica help sleep sour super versatile strain describe high putting brain different level make sense youre feeling energetic sour help put mind',\n",
       " 'another personal favorite extremely cerebral whenever consumed many others pointed really couchlock make frontal lobe act way could never imagined almost like sour diesel key key open whole realm mind ignorant smoke',\n",
       " 'strain never disappointment pungent sour smellsour skittle taste great sativa mental high great dazing society escaping life problem',\n",
       " 'great mid grade sativa uplifting fantastic diesel taste strain california different sour diesel new york city nyc sour much potent thc flavor ive dispensary bay area none west coast sour comparable nyc variety buck eighth one best daytime strain love taste smell way',\n",
       " 'awesome strain try shut',\n",
       " 'looking strain help axiety anti social high strung quick snap depressed unmotivated always edge etc strain medicate tried proven many keep going back one get mind right want go hateful peaceful roll smoke blunt sour',\n",
       " 'appropriate name given scent euphoric uplifting buzz put happy place mentally without leaving stuck couch unable move',\n",
       " 'smoked sour diesel friend fish earlier immediately hit high stay id definitely recommend anyone especially suffering anxiety depression like',\n",
       " 'bud farely dense strong planty diesel smell broke pretty nice packed bong hitclear minute intial hit felt light uplifted high wouldnt say made active relaxed still clear head wasnt reluctant get move around would reccomend anyone who looking settled unwinding kind hig',\n",
       " 'method tasting note bright pine like taste reminds sour metallic candy enjoyable interestingfeels active chatty silly active lowered anxiety instantly',\n",
       " 'yikes didnt like strain whatsoever tasted terrible would want gag taking hit dab pen felt like ate way much started gaining weight didnt like felt paranoid dont recommend',\n",
       " 'fitness fan sour must try workout staying active big part life however difficult dealing previous professional sport injury soreness workout plus lifeshiiiitttt sour get rid pain allows focus feel correct muscle activation slowly moving complete range motion strain allows',\n",
       " 'good strain good getting day moderation evening take little extra good go',\n",
       " 'im writing second review sour clarify thing majority love strain good reason read review didnt recognizing different cannot help think smoking something else unless truly trustworthy source grow important remember dont always get pay since strain hig',\n",
       " 'hand favorite strain always get giggly happy youre like enjoy watching movie eating food love sour uplifting euphoric fun high',\n",
       " 'shoulder surgery three month prier back surgery every little thing expected surgery brought minimum pain surgerywith swelling soreness depression mental effect anxiety somewhat extinguished comfortable saved life long term pain relief',\n",
       " 'sum review bar give pretty accurate preview thats great hunt strain using leaflys database strain recognizable flower wax oil majority sativa cannabis mental easily turn anxiety thoughtshuffling confusion sour diesel instead comforting also distinctly different lot popular cannabis',\n",
       " 'hated strain vaped extremely anxiety producing made difficult focus wife got paranoid af every time worst sex weed ever tried every combination could think get oz smoking vaping pairing another strain nothing worked anxiety feature dominant wrecked numerous encounter wife gunshy sativas ever',\n",
       " 'sour diesel first true strain smoke must say im incredibly pleased im huge fan taste sour gasolinelike dont know people mean say taste fruity offensive eitherafter second rip small bowl could feel high begin blanket confidenceboosting warmth high far extreme subtle second',\n",
       " 'strain caused almost orgasm little caesar pizza cheesy bread',\n",
       " 'true classic heady potent yet functional',\n",
       " 'great wake bake strain really help take edge give energy get day clear headed high effective taking away depression',\n",
       " 'one best sativa strain tried excellent mood energetic high',\n",
       " 'love sour diesel happy euphoric giggly high love',\n",
       " 'prozac weed strain similar og kush consistent across many sample go straight dome og giddy feel good vibe cerebral le pronounced body high light amount give focus uplifted vibe little add creativity smoke run risk randomly forgetting drifting space capable mild psyche',\n",
       " 'strain go either way end focused creative energetic uplifted also end sleepy hungry paranoid passing best friend couch prepared either scenario',\n",
       " 'vape sour diesel morning work help focus still relaxed even million people waiting time get work',\n",
       " 'im hitting pax right strain rock killer body high make think outta box',\n",
       " 'first strain ever smoked oh boy im jumpy energetic racy kept moving around reason spinning circle first made little dizzy wasnt able stand minute aroused uplifted string strain careful strain first timer',\n",
       " 'review west coast diesel wcd favorite diesel strain mix wcd light indica mellow negative effect diesel seem eg anxiety agitation wcd skywalker great combination personallyeast coast diesel intense would recommend faint heart mindstraight sour diesel make well sour generally unpleasant unfortuna',\n",
       " 'vape sd work give great stress anxiety relief still able social feel focused articulate thing clearer conversation',\n",
       " 'best sativa head high productive around house made think lot',\n",
       " 'sick flu holiday despite getting flu shot month prior went dispensary pick sour vape cart heard rumor helped people flu antiemetic strain vaping strain small dos low temp avoid irritating sore throat heavy lung able breathe easier became functional energeti',\n",
       " 'like indica supposed',\n",
       " 'make cannabis capsule coconut oil used love blue dream recently tried sd im convert use chronic pain control fibromyalgia good day strain take two capsule wake time shower sd kicking feel happy floaty mellow focused continue capsule throughout day im able work im',\n",
       " 'rule land best weed ever favorite strain',\n",
       " 'mellow yet strong strain clear buzz yet effective one favorite come function day still keeping nice light vibe',\n",
       " 'love strain',\n",
       " 'work every time',\n",
       " 'sour diesel give basic high least dont let sound like bad thing make upbeat happy giving good case laugh peak friend mentioned distinct taste diesel flower first really threw almost weird however hit something weird flavor grew cant get enough st',\n",
       " 'super cerebral love way keep seated make want move forward love working music',\n",
       " 'strain excellentnice lung expansion trichomes bud beautiful terps offer spicy earthy aroma also catch fain hint lemon limonene black pepper plethora caryophylene copd cbd plus north meridian north okc really top notch quality nugs lookin like straight outa high time thank cbd plus finally bringing',\n",
       " 'harsh gooood',\n",
       " 'picked stuff day knowing expect good high incredible took mixed girl scout best shake ever made creative literally sat computer hour worked stuff',\n",
       " 'high hope strain sorely sourlyhahah disappointed research id selected strain hopefully use conjunction running fitness regimen picked local dispensary found good time test mother law coming sunday afternoon seemed like perfect time took couple small hit sd vape cartridge min la',\n",
       " 'fav str gas never fails',\n",
       " 'sour diesel far best chronic ive tried effect phenomenal blasted raw joint able finish work without coffee like strain replace coffee together strong mental focus desire complete task say havent tried strain havent tried true chronic',\n",
       " 'strain positive hazy mind state yet also felt focused able smoke stuff day could leafly leafly myleaf sour',\n",
       " 'smoked half blunt sour went get together full new people wasnt anxious increased concentration ability focus played game headbandz guess whats card attached forehead destroyed everyone great high get zone cerebral also great socializing fucking love shit',\n",
       " 'absolutely one current favorite tried first time around week ago let tell posthigh almost great high personally ive felt giggly every time ive smoked initial craziness wore second time attended caf poetry reading felt every single word emotional euphoriainducing le',\n",
       " 'gram kingpen sour diesel indicathe best cartridge planet earth todaythe flavor lemon flower touch roasting honey effect joyously melted happy euphoria cannot recommend cartridge enough',\n",
       " 'good stuff keep active relaxed tired great stuff',\n",
       " 'cart amazing',\n",
       " 'really good physical mental exerises',\n",
       " 'around great weed strain dabbed one strong head high anxiety gone mad somethin im anymore idea first place cannot concentrate much strain mind place cheeseburger making started talking fun wake ya eye department keep body lazy calm relax',\n",
       " 'awesome migraine',\n",
       " 'bud received mediumlarge good bud appeal however fox tailing smell sweet diesel tar smoke smooth high good felt uplifted happy quite unsociable high lasted medium time',\n",
       " 'smell great smoke sweet make focused choose',\n",
       " 'super pleased strain used three year sometimes forget helpful anxiety depression recently amazing salediscount breeze botanical thank much breeze botanical even moment package opened one knew would good experience never bought good smelling bud smelt good smelling b',\n",
       " 'favorite thing morning work stretch hit bowl sour diesel topped keef course make feel great allows push post workout exhaustion continue morning routine mention make mundane around house task far interesting le bothersome sometimes day two since ive smoked sour diesel',\n",
       " 'got pre roll sour diesel ill tell one thing probably best bud ive ever smoked chill buzz wasnt ready go sleep couple hour highly recommend anyone enjoys good bud',\n",
       " 'good strain one favorite',\n",
       " 'good flavor low moderate high',\n",
       " 'come sativa strain old reliable energetic giggly euphoric mix great social event great suffer anxiety',\n",
       " 'good mornin yall feelin soo happyuprelaxed euphoricelevatedenergeticready create beautiful daymy chronic painfatigue enjoying sdsoo score coveted sativa quite oftenalways topnotch smoke high thc toke smooth taste lemonherbone doob hippyhead good hrsenjoy',\n",
       " 'dove cry sound like dove cry purple rain bath prince love sour soothing mind spirit still shock disbelief im smoking big one friend commraddeep emotional healing meditation prayer one princewe miss already sweet sensitive man hurt gave muchacross',\n",
       " 'picked pax era cartridge live resin starbuds louisville co strong earthydiesel undertone taste nd none often earthy flavored smoke harsh case cerebral non couch lock real find',\n",
       " 'everyday strain bad best good middle ground strain',\n",
       " 'potent head heavy sativa everything felt amazing couldnt stop laughing great wake bake also super cerebral',\n",
       " 'absolutely love strain work perfectly day careful using evening night trying get random thing done',\n",
       " 'powerful stuff whoa toke played golf couldnt even hit ball think ill stick indica strain swinging stick lolthis strain really good get want experience walltowall head buzz couple solid hour start mellowtop shelf sureupdate april finished left strain realize go',\n",
       " 'method consumption flower smoking smell divvy category three piece full flower grounded flower smokefull sour diesel life name smelly sour definitely pungent strain want carry hide time ground thought full bud stinky awfully wronged face immediately lit work',\n",
       " 'energy good mood concentrate',\n",
       " 'new batch incredible say taste smell high spot even smallest nug reek whole room help tremendously anxiety pain depression hell even bi polar stuff help long lasting enjoyable high definitely one top reason',\n",
       " 'sour diesel one classic american strain typically common new york medical patient course give user feeling joy ease great user suffer depression need little mood boost day nevertheless sour diesel definitely morning cup joe le experienced user taking larger dosage cheer ligma',\n",
       " 'much head high leaf feeling spacey youre able get work done throughout day taste great sour good day time smoke good chillax evening',\n",
       " 'sour strain best',\n",
       " 'wow great cerebral high good deep meaningful conversation wife solved world problem bad didnt take note could remember also quite memorable bedroom folk new fav',\n",
       " 'solid book classic strain wont disappoint sour embodies quality nice sativa fresh bud smell similar ammonia diesel exhales sweet peachtinged taste also include undertone diesel great beforework strain cause get ready fastpaced task hand case foodrunning around great bud certainly strain every weed',\n",
       " 'use cardio allows stay focused task hand keep redundancy bay weaker potency last one im complaining necessarilyharvested barely month ago',\n",
       " 'ive always loved sour diesel even lived vancouver tonight obtained local delivery service santa clarita got one best strain uplift mood anxiety depression sour great help focus good thing characteristic strain put high favorite list pleasing bonus smell',\n",
       " 'say sour deez favorite mine understatement strain get couch tackling day cleaning cooking hiking social situation made vibrant potent bud sour deez always great getting creative juice flowing fueled many music writing session couch lock munchies headache help make strain',\n",
       " 'sour diesel great day strain happy energetic focused perfect day smoke keep depression anxiety bay keeping going',\n",
       " 'another great strain never lack give super body high mind releasing sensation allows become relax lazy put greatest mood definitely smoke',\n",
       " 'smoked white grape game leaf blunt feel mad relaxed mad happy great strain social gathering youll soon see everyone talking good time blunt cyph',\n",
       " 'good mood good time',\n",
       " 'worked well nausea bowel cramping help relieve depression anxiety induces strong appetite make sleepy medium dos euphoric creeper effect took min nausea completely stop',\n",
       " 'ounce bag shit best pain relief',\n",
       " 'racy spacey bright happy buzzing energy full thought idea point buzz float high get ethereal spacey proper fullblooded sativa take',\n",
       " 'enjoy lot',\n",
       " 'mildly energizing high munchies dry mouth generally happy feeling w slight anxious tension body made sleep lighter',\n",
       " 'euphoric feeling gave great energy erased anxiety also make feel like want go adventure sour great day strain still allows productive focused',\n",
       " 'hard hitting super dank strain amazing live rosin sour diesel punch full sexual energy creative vibe highly recommend anyone going sever depression ol lady bp really bad low dab live rosin mood',\n",
       " 'great migraine',\n",
       " 'strong make good high milky clean hit sticky would complaint except smell strongest ive ever smelt bag backpack stink whole room couple hour',\n",
       " 'strain amazing really help pain anxiety stay motivated clear headed still function everyday lifei also suffer paranoia lot strain intensify sour also always intensifies sex great strain',\n",
       " 'cried widow tearry eye',\n",
       " 'nice soft high come gradual stay gradual lighter high',\n",
       " 'sour favorite sativa strong knockout tingling sensation amazing love good head high always delivers pungent loud aftertaste woody like pine bit harsh lung find smoke also thick great social strain youll laugh cant breathe tolerance high sour dont need much fee',\n",
       " 'classic',\n",
       " 'suffer severe debilitating sinus pain make depressed irritable zero motivation well pmdd adhd gerd gastroparisis tmj make worse procured couple disposable oil tank come home long day much pain one hit like good god anything like flipping switch glad',\n",
       " 'smoking sour like breathing god cologne wonderful experience begin long light soon arrive pickup location know something special behind counter stashed mattress smell diesel fume lime juice hit nose soon see bag simply intoxicating tickle airway pungent citrus aroma pocket',\n",
       " 'definitely harsh however flu moment weed smoked past four day harsh made cough lot earthy flavor needed five hit start feeling however giving four star expected actually better everything id heard highly recommended anyone medical',\n",
       " 'green joint ajs sour diesel incredible suffer crohn strain help pain still give energy finish day',\n",
       " 'love strain take straight launch mode',\n",
       " 'sd make feel likeim gonna get shit done happy im',\n",
       " 'regular since door opened wouldnt go anywhere else around staff building itselfthe reason wont go anywhere else saidthe sour diesel strain got today binx budz terrible structure smell color star straight gg',\n",
       " 'sour diesel dont die multiply nelrich',\n",
       " 'awesome straincurrently vaping gotta say great putting little pep step smile bootdefinitely recommend anyone come across',\n",
       " 'never bad time sour diesel always good weed never disappoints',\n",
       " 'try lamb sour diesel best beautiful cbdsativa power house',\n",
       " 'right let tell u feell wonderful oil hit u harder good strain one favorite buzzrelax',\n",
       " 'crazy high ran around wood barefoot would smoke',\n",
       " 'yummy plant cant wait grow give pipe',\n",
       " 'wonderful experience almost every time careful strong smoked larger amount normal almost completely gram ended extreme vertigo motion sickness tripped every time closed eye high lasted roughly hour beyond happy time ive smoked sour ive giddy quite frankly completely happy',\n",
       " 'one absolute favorite strain see get wont disappointed',\n",
       " 'party',\n",
       " 'definitely get job done',\n",
       " 'smoke first time math test realise kind good study work feel motivated happy remember outside winter stared snow feel like nature part dont know understand awesome everybody need get trip magic',\n",
       " 'first strain fell love aroma flower intoxicating smoke potent walking mountain appalachian trail southern ny sun rise forest wake life around youor sitting boulder middle fast moving creek eye closed wind back sun face atmosphere lost sound world aro',\n",
       " 'today wake bake review day sour diesel took couple seasoned hit bong started feel rush euphoria image went head like rolodex thing probably today long walk job search calling bank cooking food agenda instead found turning music eating mango watching tv time',\n",
       " 'vape cannabis solo vape thats im reviewing sour great strain immediately hit brain gentle way love take bad mood good one quickly feel energy move body make want get move thing also doesnt make look like im stoned af nice cant say take away pain',\n",
       " 'fantastic strain got hand second batch today busy rolling one right bat seriously pungent strain diesel aroma picked clearly grinder earthy highlight revealed good mind high little body buzz almost appetite enhancement whatsoever dreamy mellow great pain often push little much',\n",
       " 'one best hardhitting sativa strain sd distinct smell first time experiencing never forget hint lemon gassy diesel fuel smell foul aftertaste leaf lemony vanilla typeas high prepare ultimate experience known account youll experience boost energy creativity people often find',\n",
       " 'im fairly small female primary smoke cartridge sometimes strain tend hit pretty hard sour diesel left feeling le anxious one inhale virtually zero couchlock felt motivation paint color minute experienced dry mouth symptom slight jaw clenching nothing would make hesitant pick strain taste',\n",
       " 'lately ive huge tolerance weed couldnt even get remotely high unless least bowl got sour smoked first hit could feel small high take two bowl stop last long time coming high dont feel tired sluggish instead feel energized happy life definitely recommend sour',\n",
       " 'one favorite strain',\n",
       " 'best strain ive far negative diesel aroma making paranoid get act fast make real happy',\n",
       " 'sour diesel solid ripping sativa sd give immediate invigorating cerebral pop strain great daytime use excellent motivator higher thc strain hard stay couch use need get housework done make outing bit brighter anxiety depression melt away want social consumption method water pipe without filtration',\n",
       " 'severe ptsd cure mannn smiling laughing til cry wanna get active live life sex yum aphrodisiac status love sooooo much highly recommend absolutely favorite muahh',\n",
       " 'make energized social give crazy headache sometimes better experienced smoker',\n",
       " 'favorite strain go everything sour make sense extremely cerebral get mind moving also dont get tired anything feel like want get active productive absolutely amazing really help anxiety stress well calming peacefully invigorating',\n",
       " 'best first time',\n",
       " 'wanna talk anyone else wanna talk let talk make extremely talkative creative effect kick feel euphoria creativeness flowing able maintain clear focused head work im also constantly singing dancing jukebox great morning going smoke totally recommend anyone anxiety issue depression even people',\n",
       " 'took strain nye sleep concert great american music hall say strain great pick show feeling high around head eye moving music good strain doubt however think strain suitable productivity gave star',\n",
       " 'gas im raleigh north carolina get often',\n",
       " 'good smoke leaf energetic clearheaded happy would great outdoor adventure',\n",
       " 'one top favorite strain',\n",
       " 'instruction cleardick stuck fan',\n",
       " 'strong head high intense dazed feel',\n",
       " 'best thing social anxiety conquers like charm',\n",
       " 'storm old faithful smoke always delivers get moving brain second dose',\n",
       " 'sour diesel wake good kind hyper make everything feel amazing',\n",
       " 'good smell taste however one strain first bowl effect',\n",
       " 'happy relaxed help pain',\n",
       " 'chill upper',\n",
       " 'veery high smoked kief sprinkled im laying bed blasting music time life really know mean',\n",
       " 'ideal strain god got anti depressant found strain smoke couldnt happier feel sexier im happy im horny dont mind eating yet somehow im losing weight love moving dont mind housework absolute bliss',\n",
       " 'one fav strain beautiful flower mentally uplifting smiling',\n",
       " 'high could pas pregnancy test rnlike im thinking high level basically like two people inside',\n",
       " 'sour bouncing wall deep cleaned entire house didnt experience sort paranoia good strain motivation getting shit done',\n",
       " 'one favorite good gravity bong ended hype paranoid dry mouth taken moderation one better strain',\n",
       " 'great people say definitely dont get energy im couch potato',\n",
       " 'sour diesel always average bud kind thing would smoke daily enjoy high crazy yet unpowerful nothing better smell strain favorite thing texture however dry moist also stickiness plant mouthwatering something would crave light sour diesel always favorit',\n",
       " 'happy straingood stuff look review people love sour favor smoke right',\n",
       " 'world fav',\n",
       " 'ive always sd fan one first real solid strain ive ever smoked great head high sometimes like smoking little grandaddy purple evening want mellow still thing',\n",
       " 'strain hit like psychedelic bought eighth second took whiff bud extremely excited smoke noticed got super spaced thought trippy felt like could feel god damned nuerons firing brain sensation extremely pleasurable trippiest strain love',\n",
       " 'sour first experience bong first hit gone like double shot espresso buddy couldnt stay car went walk degree weather needed something want get shit done yes hit bong car shit cash',\n",
       " 'youre professional bud smoker havent tried sour diesal least youre definitely missing whooo rick flair voice sour diesal amazing immediately uplift opinion great want set mood night significant strain highly recommend',\n",
       " 'one top strain recreational use doesnt block pain fact make notice pain even great bipolar disorder anxiety also good depression',\n",
       " 'smoked couple hour ago found cleaning house without realizing house look amazing still energy cook gourmet food great strain',\n",
       " 'one favorite strain due extremely enjoyable high one always make giggly even high tolerance great listening music jamming pretty much anything involves awake smell potent lemonlimepine smell bud medium sized medium density covered long red hair resin glandspurchased sunland caregiver sunland ca',\n",
       " 'enjoy sativas grown strain many time sour diesel pronounced stoning effect short duration thus star prefer clarity long effect durban jack herer phenotype guess got used type sativa sour came along',\n",
       " 'whew chileeee strain wonderfurrrr blac youngsta voice suffer different illness lupus arthritis dermatomyositis scleroderma interstitial lung disease raynauds gerd yes lot lol pain stress depression lack appetite migraine fatigue etc play major roll day day life give greatest boost energy make happy energized motivated silly r',\n",
       " 'heady intense',\n",
       " 'amazing strain lucky enough received bud perfect condition god sht hit harddddd sativa course youre going active happy good stuff felt amazing starin day time give gassy pungent smell diesel bit lemon x citrus sourness highly recommended musttry strain stoner cheer',\n",
       " 'good lifting feeling also found giggling lot good fun strong sativa',\n",
       " 'personally love strain smell great give lemon diesal kind smell hit great bong high amazing packed time bud bongcouldnt even ride bike high well sum sour strain stoner outta try peace guy',\n",
       " 'total burst energy happiness almost little happy though kinda feel stupid dumb oh fall awful couch lock posi thought flow mind really hard time typing',\n",
       " 'sour diesel one staple strain see east coast canada never seem get enough beautiful sativa strain sour diesel leaf back pain non existent depression heavily sedated leaving calming invigorating buzz huge smile face personally find strain start head slowly creep straight spine without drifting rest',\n",
       " 'definitely winner',\n",
       " 'dont remember first time remember taking double hit small bong vision started get hazy ever slowly tracer crept everything went black woke neighboring town tree park heavy hitting strain wish could smoke experience good time everyone else high powerhouse strain',\n",
       " 'holy cow taste smell dank little bud hit hella hard got three gram thinking id blow week im definitely finishing month hella strong hit nice make forget youre currently talk make giggle like school girl wanting talk everything happened day hence long th',\n",
       " 'love high sour give probably one nicest feeling high high receive using particular strain one hard explain combination buzzed feeling seeing everything slow motion frame frame allows enjoy high exponentially deep intimate talk random thing little thing make die',\n",
       " 'absolute sativa classic everything strain intense thcfrosted bud glorious aroma signature lungrasping quality sour deliver due strength thickness smoke strain uninitiated im basically daily smoker one pull bong gave fit coughing sweat intense part',\n",
       " 'picked day always favorite mine real heady made want creative stuff loved go strain whenever get mood something fun get going great day time smoke beware make want something make sure otherwise jumping put skin',\n",
       " 'good well pretty much best doesnt pop see sour diesel wellgrown wellcured probably favorite strain alltime although recent experience gelato birthed close competitorthe psychoactive effect potent dreamy creative blissful state tinge melancholy soulful aching ethereal kind melancholy fact',\n",
       " 'sd put spirit san diego local call whale vagina anywho took light san diego ever watched whale san diegos sea world theyre fantastic overall advice story would smoke imagine youre san diego youre already star recommended friend',\n",
       " 'favorite sativa tried im fan flavor profile glide past tongue leaving artificial vanilla plastic taste hint diesel remind old grain truck day farming palouse despite little enthusiasm flavor benefit strain amazing strain new tested entire week',\n",
       " 'mack town diesel graham brand assuredly get chugging routine like semitruck sour diesel cross legendary ak leave feeling pleasantly medicated strain surprisingly labeled indica creator yet effect couchlocker instead one feel creative functional noticeable amount pain relief wanting mac',\n",
       " 'short high im fairly new smoker lasted good two hour isnt super fast hitting give good minute waavyyyy instantly make happy apparent reason make laugh stupid shit smell suuper loud suuuuuuuper loud grinded smell taste like lime wood diesel fun smoke would say',\n",
       " 'major head high give spacey yet intrigued sense want ponder life see new meaning easily forget care one feel good',\n",
       " 'love strain lot find little creative world giggling always forgetting remembering ending lazy finish going first place also quiet frequently finding zoning music soundgarden blackhole sun dont know find song trippy high dont really like calling getting hi',\n",
       " 'think strain amazing motivation stress relief actually making want write basically say amazing top quality medicine',\n",
       " 'pretty good dab pen',\n",
       " 'favorite strain always great smoke put sunshine day make feel like toasted marshmallow',\n",
       " 'overall great fan diesel sour diesel best energy little cloudy head high',\n",
       " 'ok wait dab literally taste like croissant im joking quick powerful high envelops arm like nurturing mama penguin gently usher life making sure send loving mama note go school god im high strain great',\n",
       " 'sour diesel become favorite sativa im big fan diesel taste since vaporize effect well worth help much pain doesnt make counterproductive',\n",
       " 'isnt medicine penicillin isnt medicine first sampled sour early boston goto year legal cannabis massachusetts growing body research around specific strain learned sour diesel cannabinoid pattern work particular cannabinoid receptor powerful mental physical adaptogen speak everybody sd',\n",
       " 'perfecta',\n",
       " 'smoking j sour diesel word amazing keep going back purchase great stuff get good bud pungent smell perfumy taste great strain relaxing long day also work wonder anxiety sed sativa strain feel alot indica undertone definitely strain im liking e',\n",
       " 'strain first ever tried remains favorite day start bit whoaaaaa factor easing carefree demeanor feel body shedding major discomfort manageable state ideal strain go pain everything else make silliness willingness relax loosen feeling like problem life big sweat th',\n",
       " 'strain seems help lot anxiety time time im good social setting definitely help much love flavor taste',\n",
       " 'first known sativa strain prefer good indica great sativa around good effect make hyper hungry video game great lol',\n",
       " 'strain good going walk nice scenic place going party wanting talk people doesnt tend get paranoid certainly could go board take good hit youll know youll feel body euphoria laughter rushing blood youll wanna get explore nature',\n",
       " 'like shower chimpanzas xd',\n",
       " 'hungry strain strain hybrid sativa nice clear headed high',\n",
       " 'one go sativa strain downside drymouth tbh happens strain',\n",
       " 'smoked first time morning new year day morning swimming lap sour exceeded hype one best swim ive ever',\n",
       " 'one time favorite stain one bong rip already blasted still enough energy stay awake salso stimulated appetite',\n",
       " 'perfect daytime strand made stimulate mind allowing access creative genius access unlimited potential also brings focus clarity help adhd good job strand safe operate heavy machinery influence safe use business hour great pain nausea suffer daily seven year j',\n",
       " 'definitely great strain get moving even im tired',\n",
       " 'friend told tried strain dont remember im putting great strain',\n",
       " 'alright extremely hungry thirsty made loud annoying made eye mouth dry smelled tasted much like diesel earthy made pretty happy wouldnt say felt euphoric',\n",
       " 'one best strain entire planet strain perfect sativa give amazing creative chill head high also help focus get stuff done absolutely stay focused boat time one',\n",
       " 'personal favorite sativa useful personal treatment ptsd',\n",
       " 'never liked sativas omg feel incredible right energized mentally much chaos feeling head meani stare tv long time wondering taking long turn remembered hadnt actually turned onrelaxing body high energizing head high',\n",
       " 'keep eye open much bloodflow eye near burning look like zombie super glassy eyed red vein happy green eye veteran smoker possibly ultimate creeper strain careful',\n",
       " 'strain beautiful many noted instant relief need antidepressant medication carefully working psychiatrist slowly wean ssri ive taking last year life always though wake bake sure sign loser never understood value strain hold allow without mindless zombie',\n",
       " 'pungent smell great sour taste',\n",
       " 'great day time use tasty terpenoids pronounced easy recognize nostalgia jar like light dark',\n",
       " 'perfect antidepressant great taste totally functional high',\n",
       " 'love strong fast acting plus fairly long lasting even past initial euphoria least opinion really strong smell btw',\n",
       " 'absolutely crazy right bat become social almost much want make friend smoke nothing ruin day youre almost impossible sleep definitely worth experimenting might learn thing two alchohol friendly',\n",
       " 'euphoric uplifting high give positive outlook life feeling contempt motivation time great social situation going day',\n",
       " 'robust taste soury goodness sour diesel good seem build tolerance super quickly reason',\n",
       " 'still killer yearsbest b',\n",
       " 'best sativa dominant strain iver iver girl scout cooky blueberry cheesecake almost strong sour damn near like trip smoking bowl friend want try lsd strain lemon sour diesel legit sour truely top time favs',\n",
       " 'weed reward got girl like started talk got reward weed itll get blasted second however bubba kush baggies train wreck even indica fav gdp shit dank fuck stick horrible stink like bud stank youre smoking outside paranoia dank brings',\n",
       " 'uplifting euphoric great getting day started one strain kind make want laundry',\n",
       " 'upstate ny first strain smokedits main strain herealways brings back memory smoking thiswe call gas',\n",
       " 'potent lifting give u relaxed feeling look awake alert open ur mind allows creativity help depression pain well stress anxiety',\n",
       " 'sour diesel actually known really test result show thc huge amount cbd thc creates high cbd known interact thc sort magical way creating euphoria body high differs interaction strain thc cbd sour diesel however seems mastered pure euphoria heavy b',\n",
       " 'specific sour diesel stain bought particularly dank',\n",
       " 'best workout',\n",
       " 'feel good melt pain away completely enhances everything easy get high productive extremely creative become highly focused',\n",
       " 'great social anxiety',\n",
       " 'strain boy energetic beginning really go head quickly hour got super relaxed made sleep great wake refreshed basketball next day able fully function would definantly smoke strain good friend thing around house also made thing claymated super fun strain make pre',\n",
       " 'already wrote review totally forgot list sour diesel amazing quality reading ppls review said also seemed appreciate amazing quality really sexmetalbarbie said like talking like stay active smoking particular strain also mentioned horny particular strain make',\n",
       " 'spinal fusion surgery couple year ago cause unbearable pain shoulder blade back pain usually inspires lay nothing day smoke miracle strain horrible pain vanishes sour diesel relief physical mental stress far one favorite everydayuse strain thing sour give super intense munchies',\n",
       " 'one favorite strain wonderful social flower help lot depression supet pungent tear throat good job getting high around fun time',\n",
       " 'sour diesel single handedly elevates mind promotes mental health well even anxiety try creep match sour diesel activity medicating included family reunion softball game eating good food laying shade big tree easing peaceful nap nothing great thing come sour diesel',\n",
       " 'make feel relaxed stressed able concentrate daily activity take one everywhere',\n",
       " 'good sour diesel strain indoor grown superior outside grown flower relatively mild strain use go thing sour diesel make focus anything pretty much sometimes reading difficulty performing skill daily task easy strain strain excellent pain used strain naus',\n",
       " 'standard go delivery guy come around love taste effect strain',\n",
       " 'love sd leaf brain tingly focused strong high consistent pleasant cerebral high good get thing done',\n",
       " 'pick one strain would stuck deserted island withit would sour diesel period',\n",
       " 'two bowl breakfast start every daysour captain c ill waysour diesel dreamy legend never lose place hall fame strain blow mind one thing strain dont like smell pungent effect strong sativa hard find high quite like sour d',\n",
       " 'diesel favorite strain perfect one super nice head buzz listed sativa anxiety give u warm body high social bud giggle',\n",
       " 'strain one first ever delivers strong hit skunky smelly flavor frequent tendency producing dry mouth occasion slight paranoia strain great beginner great pain relieve depression much anxiety stress sour diesel le breeding tool making great hybrid',\n",
       " 'yeah shit got pretty faded',\n",
       " 'relaxing give focused energy',\n",
       " 'know strain trying',\n",
       " 'strain great daytime high also doesnt keep want go bed put good mindset make want productive personally like smoking beforein class make want learn',\n",
       " 'strong high bud much moving around couchlocked hour strong smell skunky let know sd room def top ten',\n",
       " 'one best bud ive ever smoked excellent flavor great high',\n",
       " 'loved much morningday writing situation california sour deisle similar perhaps sharper mentally wondering california strain v grown california lol im van bc',\n",
       " 'get deep as thought idea',\n",
       " 'sooooo overrated blue dreamsuper hnyc dww alllllll better ive tried five time averge best good making hybrid',\n",
       " 'favorite strain suffer crohn disease chronic fatigue first time ive worked hour shift felt like dying afterwards still feel great im focusing im super stoned sinking couch eating chip feel great',\n",
       " 'amazing weed ive never played guitar better whole life',\n",
       " 'decided try devil choice weed come sour diesel haze tried strain past four day buying gram taste good kick quickly high good hit felt lifted comfortable yet mouth dry hell mymedical purpose use forgot pain free felt like smoking sour dy',\n",
       " 'sour diesel prepared insecurity fear get shoved subconscious view dark magic result negative experience perhaps actually used allow one face challenge directly youve tried strain always recognize itwhether want',\n",
       " 'enjoyable something one strain easy puff become uncomfortable due remarlable resin content high thc averaging low',\n",
       " 'relatively shortlived high longerlasting pain relief little racy wakenbake big cup coffee really anxietyprovoking good situation need pain relief also need focused cognizant one sativas ive found thats good muscle spasm also good centrally mediated fatigue cf m fibro',\n",
       " 'superb offering tilray bit pricey omg quality sativa flower stunninggasoline aromatics combine skunky peppery taste watch beginner u medical patientssay yes blowout cerebral pain killing buzz ahhh',\n",
       " 'truly energizing got couchlock whatsoever calm nerve minute smoking another fully hit dont smoke bed definitely keep',\n",
       " 'watermelon flavored gummy edibleproseuphoricupliftingconselevated heart rateincreased energy relaxingheadache afterward',\n",
       " 'make happy',\n",
       " 'little bit provides clear headed relaxed overwhelming high smoked relaxed euphoric tingly become almost narcotic like type music amazing paired leave trailing beat rhythm head slowly fade away towards end awaiting one another relax chill one best',\n",
       " 'favorite especially creative work keep focused productive fresh helped relieve migraine seems working preempt nasal exhale treat hit low nose go little spicy side',\n",
       " 'definitely among top favorite strain fast hard hitting sativa high lingers high level munchies dry mouth always make cough whether flower concentrate form',\n",
       " 'strain highly recomended sativia one time go medicine good day u need get shit done lift sprit',\n",
       " 'good strain varying effect based batch good balance euphoric mellow good day time smoking smell strong taste strong well unique scent',\n",
       " 'want say im sativa lover sour diesel battle back forth number one strain time blue dream spend time sour diesel find motivated ready go ready talk situation yet calm relaxed amazing strain',\n",
       " 'star strain around eas every single one symptom depression long time vaporizer elevates mood brings back creativity focus eas muscle cramp nausea alleviates anxiety energetic make great daytime medication',\n",
       " 'get really high really fast job slap paranoia end though',\n",
       " 'sour old favorite well time around got shatter wax instead bud though smell powerfully chemical lemon flower would hit like champ almost always making cough heavily practically paralyzes lung high come quick dreamy spacy high inspiring creative enlightenment toke much would make',\n",
       " 'clear calm lift overall feeling happiness satisfaction need mental reward unrewarding task songsurvival tactic joey bada',\n",
       " 'definitely recommend sour diesel strain helped tremendously anxiety stress solid amount hour mental peace feel absolutely pressure aspect life help need still make life better youre fine start',\n",
       " 'tend prefer relaxed high sour diesel nice change pacethe incline climax felt overwhelmingly positive inspired productive way peaceful giggly smooth comedown crash morning pair well coffee night make light yoga practice feel really enjoyable lead deep satisfying sleep complaint',\n",
       " 'strain best mebecause get rid depression stresswhich help keep day day living',\n",
       " 'good',\n",
       " 'walked around smoking joint strain gas taste kicked started feeling shared awareness car around',\n",
       " 'love strain enough said smoke right work focused energized also really helped lower back pain well definetly pick strain ever find',\n",
       " 'go strain never ever everrrrr let strain perfect anything working project watching good movie youre sure pick give sour try love head rush body vibration strain give doesnt make feel slow stoney feel motivated relaxed peaceful time sour brings best',\n",
       " 'absolute favorite everything ive tried great taste give amazing body high best part warm fuzzy feeling friend discovered get belly like cat sleeping stomach best high ive doesnt take much packed bowl felt super great even better layered tangie cartridge pen',\n",
       " 'strong sativa holy shit time wasnt used high feeling yet since like th time smoking took couple huge bong rip really shouldve paced paranoid getting used walking snow felt like winter f wonderland shit everything vivid tripping lot',\n",
       " 'sour never let shes loyal friend hard time best friend good time great energy focus upliftment sometimes make randomly reflect hard life decision even wasnt theme around getting high sour really like spirit guidefriendhappy place rolled one also great sex',\n",
       " 'fantastic smoked everyday school month felt happy focused pain free great dance major dancing hour everyday',\n",
       " 'wonderful wakeup weedten time better coffee put ridiculously good mood start day right pretty much everything look sativa',\n",
       " 'new york sour diesel best find highly recommend dont plan anything',\n",
       " 'sour diesel original diesel someone work line ibl similar rezdog trying may never see either way great sativa dominant euphoric strain earthy sweet fuel note uplifting buzz signature peach hair occasional dark green sugar leaf let know youve got real sour seen',\n",
       " 'top favs consistently beautiful dank strain hemp cone packed tasty sour wake bake knee pain manageable im smiling coffee delicious euphoric stressreducing strain start day right',\n",
       " 'second review sour diesel way long since ive pleasure smoking great flower like meeting back old good friend matter long seem pick back left last head high expansive little trance like perfect day time cant go wrong one classic good reason',\n",
       " 'without med day fell asleep around still waiting impending delivery woke upjust midnight sound tree banging door three bonghits later finished laundry pedicure dawgs tomato soup gonna pull another rip two see else need done oh hell yeah medicine bag full',\n",
       " 'love focused work weed',\n",
       " 'sour diesel incredibly uplifting euphoric introspective much strong sativa powerful head high body high nice balanced well relatively comforting sour diesel active strain love get work done netflix hot cheetos zombie couch brain active introspective brings cool creative though',\n",
       " 'dabbing theraplants sour absolutely fantabulous appropriate way start dayfunday skunk diesely balancing upliftingenergizing creativitychargin sativastrain think perfect starterstrain mmj newbie thcappropriate vettokers usually list top alltime faves intro needed fellowlifers',\n",
       " 'buen sabor unas de mi favoritas',\n",
       " 'sour diesel one alltimefavorites smell deliciously sativa penetrating isnt bottle want open room dont want smelling like scrumptious weed sour described one euphoric uplifting strain cannabis power bring one creative self music extremely enjoyable well great conversation philosophizing',\n",
       " 'sour diesel easily top five favorite strain picking th head home late afternoon try gas nearly ubiquitously referenced hiphop grind bud pungent profile pierce sinus even take sniff load pax light bowl set flavor mode degree wow another thicker wave gas reach nostril',\n",
       " 'solo smoke session strain best loner stoner strain c feel energetic excited relaxed time kind way feel good let loosemaybe cuz dance help wanna start working avoid munchies high review',\n",
       " 'great feeling similar strain isnt smelly cause damn smell',\n",
       " 'enjoyed gravity earlier day got nicely stoned two hour ride worcester clear high made day little brighter',\n",
       " 'know lot people love strain caught panic attack never touched never could get smell whats funny im cant escape lol',\n",
       " 'best weed ive ever smoked much ive smoking straight two year everyday',\n",
       " 'strain got high hell sour desiel joke make feel happy kind lazy suggest trying complaint',\n",
       " 'sour diesel certainly keep pep step considered functional weed meaning benefit pain relief muscle relaxation mild euphoria ease anxiety charged sativa head buzz help lift grey cloud depression high light enough first time user yet well rounded enough veteran stoner flower thc percentage also seems vary',\n",
       " 'sour one favorite strain since first began smoking literally model good sativa quality high truly set standardthe bud predominantly light green light brown hair visible scent reminds sappy wood smoke smooth able singlehandedly roach entire joint nothing without single cough possi',\n",
       " 'best strain ive ever smoked make feel like im literally living dream super relaxing high incredible kind make lying looking star thinking universe incredible experience ive ever experienced perfect negative however duration potency smell completely fill room soon open',\n",
       " 'powerful strain say started wintery night tree waving cowardly wind darkness buttery green bud shimmered light plenty carrotorange pistil covering outer layer pungent aroma filled nasal passageway ground plume hell lighting like call joint took first puff noticed c',\n",
       " 'oh sour diesel year didnt chance get hand sd time favorite strain hand description strain leafly spot fast acting cerebral effect amazing always sweet spot use day andor night problem activity use anxiety stress dont judge high thc low cbd ratio strain',\n",
       " 'okay got dealer first time week ago overall agree review one serious conlets start pro euphoric energetic creative happy nice long high subtle come didnt mind taste definitely get mind worry con warning preface saying base',\n",
       " 'want take moment truly appreciate great strain definitely nice stoned high true sativa something really help nausea tend really intense bout nausea due anxiety disorder might imagine sour diesel help also tends give munchies may also spur appetite encourage eat fabulous',\n",
       " 'smoking stuff like climbing top space needle spinning around circle eye closed jumping head first fucking thrill nothing compare smell taste sour diesel every time smoke regularly end frolicing house singing ballad random movie musical believe frolicing isnt something',\n",
       " 'sour diesel shit sour diesel go energy uplift focus much favorite sativa strain definitely doesnt make couch potato give munchies love even smell amazing long lasting effect like get kynd brand sour diesel mg vape cartridge love vape portable easy use also r',\n",
       " 'give energy need get thing done yet hint heavy high good daytime always trying different strain go right back good ole sour',\n",
       " 'sour diesel great daytime strain one best ive found bipolar also one favorite enjoy cooking',\n",
       " 'perfectly honest hard feel strain really able notice effect objectively third person melt generalized anxiety disorder away without ever really realizing particularly effective social anxiety become extremely talkative energetic min slightly tired next hour feel happy mild',\n",
       " 'best strain hand guaranteed punch face kind high matter tolerance feel like indica allow',\n",
       " 'think experience strain absolutely awesome jsnsns new favorite strain creative waxed others leg made amazing ash tray metal conserve highly recommend strain maybe wont creative youll come close belief',\n",
       " 'time fav take couple big hit im relaxed head high giggly uplifting smoke like blunt im euphoric state couch lock smoked blunt four people early afternoon walked home ate everything house passed early woke morning still high amazing definitely',\n",
       " 'great classic strain remarkable flavor smell done right extremely potent knock u ur as moderate body effect good around weed smoke',\n",
       " 'really sativa guy probably one best strain ive ever clear migraine right make depressing thought go away also strain didnt make hungry thats upside would recommend strain one time',\n",
       " 'great goodness one g feeling amazing strain really interesting chemical like smell taste different effect leave happy rough day first time smoked stress lifted away great strain conversation tv overall good balance euphoria relaxation energy',\n",
       " 'one favorite strain doesnt give body high still work get thing done',\n",
       " 'suffer depression really bad anxiety im wary sativadominant strain usually make really anxious help focus help depression without making crazy anxious',\n",
       " 'high review timeokay smoked dime strain im going talk category enjoylook look like sour green side red hair smell almost diesel type smell hence name plus little touch pine little bit inhale smooth reach lung exhale smooth guess depends long keep taste piney',\n",
       " 'legend reason smoke normal amount great energetic high make feel sexy happy getting thing done smoke lot youll alternate dimension solving meaning life definitely staple',\n",
       " 'sour diesel great strain',\n",
       " 'sour diesel definitely one favorite memorable strain harsh throat time ive smoked aluminum toker hot box desktop vaporizer still made cough carefulit definitely euphoric high although ive better aspecti think feeling im looking strain day euphoric energetic happy laug',\n",
       " 'classic',\n",
       " 'doesnt make tired great blew thats good strong strain easy keep hitting',\n",
       " 'one favorite strain platinum sour diesel open creative side letting see light sound',\n",
       " 'really enjoy strain great daytime use got productive loved',\n",
       " 'description strain extremely accurate absolutely rely almost every day ive using medical purpose chronic pain coincides depression anxiety flower better anti depressant ive sour diesel let clear mind still creative energized taste terrible dont care help pain brightens mood',\n",
       " 'dont live amazing place like heaven atlantis colorado go weed shopping ive gotten hand sour diesel time favorite strong pungent smell taste well high hit pretty quick nice high sends mind thinking stuff like didnt even know writing review thats great sour would smoke',\n",
       " 'couple hit absolute extract sour diesel vape pen cartridge immediately lifted morning blue euphoric happy focusing get harder multitasking becomes extremely difficult kinda spacey search right word',\n",
       " 'best',\n",
       " 'made clean house interesting',\n",
       " 'particular strain good wine green color bright extremely invigorating due mental capacity dont think handle much',\n",
       " 'powerful longlasting creeper took kick gave strong mind body buzz made everything better still tingling woke next morning long creeper doesnt trick overdoing sd could perfect strain daytime functioning evening socializing',\n",
       " 'definitely one favorite strain perfect daytime pain relief use day im upbeat never sleepy love taste',\n",
       " 'isnt officially review id appreciate feedback im severely disabled confined electric wheelchair really suffer great deal pain therefore large amount morphine fentanyl patch sound ideal strain smoking mean really cut dosage dont want knocked prefer something thats good pain good cerebral effect id',\n",
       " 'make working amazing',\n",
       " 'yo smoked sour im blasted right im feeling great intense head high fun social didnt get super paranoid bummed im also extremely giggly either went little outta comfort zone one bc usually smoke indicas sour great time good long conversation social gathering',\n",
       " 'im giving strain first marijuana iv ever tried feeling amazing one rocket ship foot type deal remember laughing talking much ever see drop grab oz would recommend everyone smell deffinatly potent taste like sour fruit almost like lemon punch sour one top',\n",
       " 'energized silly light heartedness suppressed hungry woot woot feel like im moving slowly bit head high slight body',\n",
       " 'one favorite day time strain work wonder adhd really make happy person could end war one',\n",
       " 'kind go sativa think might top shelf every typical trait sativa im heavy smoker tends keep awake high decent amount time based one dab like chemical kind taste smell well youve smoked bunch say try stuff youre new smoking try baseline sativas',\n",
       " 'number one strain focusadhd issue energetic cerebral ideal exercise artwork cleaning daytime usenot driving computer work computer sd make hyperfocus go rabbit holei feel strain help think get perspective life fatigue wear great falling asleep reviewed',\n",
       " 'good high even heavy user strain leaf awful taste mouth make feel queasy hit',\n",
       " 'give rating cant purchase eighth classic strain right og kush u ask great strong chemicallemony smell almost like pine sol great taste chemically type taste citrus almost gassy smell make sense great alert high wish available grower please keep strain rotation u improve like blue dream w',\n",
       " 'best everyday stuff opinion great wake bake list chore good going retard fantastic listening music watching documentary universe tv stinkiest shit ever left whole place smell like marijuanery hour chrystal clear head high raise sens last long time fantastic sex',\n",
       " 'dont know magic bestowed upon strain hand favourite sex turn animal uninhibited relaxed yet alert marathon session best sleep life',\n",
       " 'primarily sativa smoker sour one best strain one best morning strain get great high something going require nap half way daythis favorite strain potent',\n",
       " 'simply love strain soursweet plus diesel taste thought would hate quite contrary sour sweet dominant mouth smell lot like gasoline diesel fuel unlit still discreet smell walk near busy street lot car give great mental uplifting full happiness joy since problem vanished moment youre high definit',\n",
       " 'sour diesel one favorite strain getting housework done small dosage im able feel happy pleasant going choresno impatience mild feeling satisfaction every sweep broom stay productive nice highi dont like sour diesel quite much larger toking session still good high rather heady sativa produ',\n",
       " 'let tell sour dieseli tend stray away sativas cause im highanxiety stressed individual strain change everything allows stay awake night dont feel like smoking indica falling asleep pm without paranoia anxiousness motivating provides elation sedation day time use usually strain make sleepy even straight sa',\n",
       " 'sour got kept soo long took like two three hit feeling like could taste sky good stuff right',\n",
       " 'dont great many strain anxiety response ive experimenting different variety quite time thought would give weed found sour diesel doesnt aggravate anxiety response actually help chill stimulating without overload feel uplifted calm time doesnt cloud mind ca',\n",
       " 'according fteeuhm scalefocus easily distractedtalk chatty silent periodsenergy choreseuphoria bit upliftedmotivation tho easily distracted',\n",
       " 'sour diesel far one favorite strain uplifting positive outlook effect cure slight depression bad day instantly like smoke project yard around house almost fatigue drowsiness effect superb strain active individual still remainly focused give',\n",
       " 'im fan sativas trigger anxiety sour diesel treat right woke hour ago made coffee took first hit strain im happy uplifted right im lethargic im ready take day im full energy dont feel anxious also didnt smoke much two hit need start day love',\n",
       " 'peaceful relaxing budtender harborside said wouldnt help anxiety ive found otherwise help anxiety appetite hybrid indica strain thc',\n",
       " 'increased tolerance sour diesel great sativa hit hard overdoing obviously give headache dry mouth great strain talk friend laugh given little bit escapism simply smoking',\n",
       " 'cannot understand people classify sour diesel sativa cuz always come bodylock headbuzz hybrid item mebut good',\n",
       " 'yeah strain powerful stuff lift mood also make dumb like walk kitchen forget im dumb like text exchange wasnt making sense dumb fine im home alone trying disconnect long day would smoke social outing chilling significant definitely wont get best version lol',\n",
       " 'one hard hitting high psychedelic nature generous thc definitely music enhancer mention great mood elevation property come rush mental energy chronic pain relief aroma classic sour earthy pungent terpine profile outstanding cure dont stand quickly hitting one heady',\n",
       " 'time favorite mine genetics grow point simply love strain bipolar provides amazing medicinal value anxiety depression pain insomnia stress creativity added bonus fun strain sour diesel help normal personalmost',\n",
       " 'potentially new favorite second sweet cherry thunderfuck new fav im indica hybrid lover rheumatoid arthritis pain management insomnia trouble sleepingthat said phenomenal much head high social euphoric happy laughing creative thinking high security blanket mind jump start thought get',\n",
       " 'although found strong sativa real fan sativas love indicas get lot anxiety especially extremely strong offense grow great job strong great energetic high head thinking high would great walk park nature outing good trying sleep mistake part',\n",
       " 'oh realllly nice easy smoking clean super energizing im blissed creative side fire im listening music stimulating high wow feel good idea first time smoking im smoking concentrate hell yes',\n",
       " 'one favourite sativas smoke joint',\n",
       " 'holy shit strain felt like could conquer world found joy everything also giggly great pungent smell',\n",
       " 'nice strain super energetic control focused medium lasting highvery good',\n",
       " 'awesome strain strong head high high dos induces minor dizziness strong pungent stench taste leaf burning throat big hit know tripping fuck',\n",
       " 'sometimes take review grain salt sd notoriously choice many hiphop star go herb review leafly pretty generous top list deliveredsmooth smoking great presentation slows everything mediumpace give perfect eye half closed buzz didnt get serious munchies thirsty',\n",
       " 'strain made fall love sativas imo absolute best sativa strain could function good smoking talkative creative super energetic day great weed smoke nothing work look forward day',\n",
       " 'love smell loud stinky n pretty bud medium dense bud stony high pluto level',\n",
       " 'minus star many different version phenos day sour control u never know youre getting unless youve smoking strain year know different variation smell there nyc sour diesel hazy oftendebated gentics add confusion half sour diesel ive smoked east west coast v',\n",
       " 'feel like good fog creeping cold winter night like kitty blanket',\n",
       " 'particular strain scared away sativas felt like couldnt gain control thought action since found sativas work better huge sativa fan would certainly recommend anxiety paranoia selfdoubt thing dont need felt ill try one day maybe feel like little self control eve',\n",
       " 'sour diesel strain give great high mental high strain also make tad bit paranoid big deal great strain definitely would smoke',\n",
       " 'pretty good make happy',\n",
       " 'good pain strain super high kind harsh throat youre smoking pipe',\n",
       " 'probably one favorite strain mostly smoke sativa clear reason make focused energized super happy motivated help relax muscle ease chronic back pain eas headache help significantly severe social anxiety dont feel high use sour diesel feel good',\n",
       " 'good body high however youre prone panic attack generally anxious strain might actually exacerbate anxiety good strain overall exception anxious feeling give sometimes',\n",
       " 'used love strain made super active uplifting recently made anxious think could interacts ssnri im effexor mg warning anyone else similar antidepressant maybe anyone else prone anxiety panic attack',\n",
       " 'migraine pain nausea medicated round take bout min start kickin nausea gone pain gone pain really bad oh wonderful pain relief sour never let body high got laundry done head high energetic high lasted hour great sativa dominant id still highly recommend daytime use painnausea nice stron',\n",
       " 'sour diesel brings subconscious light realize thing need change life introspective used right help better person take paranoia use help correct mistake making life write thought thing know need change helped marriage',\n",
       " 'strain awesome relaxed yet energetic flower anxiety issue big help well ptsd',\n",
       " 'somewhat new smoking also high tolerance girl unfortunately get high wanted sour diesel however convinced possibly use enough felt lightheaded awhile got somewhat happy awhile wanted sleep didnt feel high experienced good reliving head',\n",
       " 'whats love sour great strain maine smell always stink dank diesel one smell youll never forget grown really well local dispensary strong cerebral effect although strong sativa one enjoy much night day beginner definitely make heart mind race ingest much pretty',\n",
       " 'far one best strain respect losing energy right amount couch lock',\n",
       " 'usually smoke high cbd low thc stuff stuff gentle euphoric fun go great w wine music',\n",
       " 'great tasting strain grown correctly flushed cured',\n",
       " 'strain one thatll keep going energized great wake bake although keep energized really good pain relief leaf much desired phenomenal flavor profile strong lemon taste except sweet classic diesel taste',\n",
       " 'one favorite strain smoke time day night although prefer sativas indicas tend knock perfect afternoon pick get home work energizing great pain',\n",
       " 'horrid pmscramps went mg ibuprofen cycle two mg tablet aleve smoking every day cycle wish theyd research marijuana woman healthmentrual cycle know coolest thing talk coming someone lived cramp bad made double floor throw must say weed good way keep',\n",
       " 'stellar motherfucking stellar significant intense overwhelming high last hour yes hour chris squire commemorative hour specifically relayerera stuff screwed shoulder day combined stress left permagrouch headspace alleviated like motherfucker mellow really fun high im really big sativers one doesnt get',\n",
       " 'nice high great purple color great fruity taste',\n",
       " 'love sativa strain uplifting calming',\n",
       " 'got platinum vape g dispensary mi two three pull feel immediately trouble fade away pain subsides great strain depression pain',\n",
       " 'didnt think smell taste pungent people say high cerebral body dreamy high like weed let stay control wouldnt recommend went buffalo wild wing last shredding sour noticed quite quickly strong public sour really open mind make feel great really',\n",
       " 'one best strain world potent sativa sour diesel smell pungent note citrus sweet sour mild gasoline smell delicate top shelf nug structure genetics original sour diesel hybridized often medical marijuana dispensary difficult locate real sour diesel keep eye bright green nugs unmistakable aroma sour dy',\n",
       " 'go perfect cup starbucks take youll ready world youll kick door every morning perfect studying reading anything else requires lot concentration im pretty uptight strain help mellow',\n",
       " 'sour diesel one old favorite although eclipsed newer better strain year stay loyal good ol sour dthe effect electrifying feel alert ready get thing done day took couple puff cleaned messy house three hour yesterday cranked bunch code new software ive lazy work today',\n",
       " 'first strain enjoying tree month aroma flavor come beautiful burntrug way way hit good god moon ten minute matter much havethis sativa sd flower strain least hybrid dont let make think wont full body experience said',\n",
       " 'nice medicine working really good pain right quite alert energetic great day time choice',\n",
       " 'pain muscle relaxer',\n",
       " 'really enjoy sativa smoke first time trying sour deisel good motivating day strong enough put bed night',\n",
       " 'great motivator true daytime winner lift move day focus smile thick pungent diesel smoke hint skunk breakfast champion effect arent nearly foggy smoke ive pleasure experiencing quality sour diesel flower concentrate sublingual drop easy helpful addadhd scale go',\n",
       " 'time given star here number great depression great fatigue anxiety disappeared hangover cloudiness good energetic buzz controllable',\n",
       " 'strain focused mellow time perfect strain strong weak great adhd',\n",
       " 'great flavor became revitalized',\n",
       " 'despite strong flavor diesel undertone earthy woody flavor strain still top brass top favorite strain hit supply powerful cerebral effect uplift energizes user experience hit really punch mellows bit within minute inhalation even mellows still stronger strain usually dabble',\n",
       " 'sour diesel classic goto strain help relax long day work',\n",
       " 'bottom line front would highly recommend anyone looking textbook sativa great afternoon frisat night smoke euphoric effect sativa without jitteryness paranoia accompany stronger sativa dominant hybrid onset quite rapid soon find zone sour diesel would make great addition one c',\n",
       " 'could give strain extra star would without doubt one time favorite strain favorite definitely top melt away stress depression severe anxiety everything look need strain potent extremely calming easily help one clear mind produce warm fuzzy feeling head',\n",
       " 'definitely one best strain ive ever smoked powerful high make feel extremely happy love world remember first time smoked said best high ever happily wide awake definitely different strain ive smoked rather making feel stupid slow simply put incredible mood recommend sour diesel',\n",
       " 'im gonna start saying strain far favorite strain would recommend im college student stressed past month point stopped eating put liquid diet thats way live minute tried sour eating half pizza haha stress anxiety melted away really made product',\n",
       " 'yo yr patient never ever picked sour even dosed sativas done missed fucking boat super legit fucked appetite gut back mood day night pretty much whenever make sure pick well grown fresh batchive seen dusty as nugs floating around beware also given name dont expect stuff stink awesomely',\n",
       " 'nice sativa slight euphoria definite positive effect anxiety slight drawback superthirst inducing sativa variety reserve star dont dry mouth',\n",
       " 'really good stuff allaround consider food sound really good immediate munchies whatsoever thinkable high increased thought lot good discussion stuff movie blew mind immersed movie make stuff fun fun strain sure driving impaired noticeably whatsoever wouldnt mind getting little think somet',\n",
       " 'small amount get happy energy euphoric creative large amount get lethargic hungry heavy eye passout seriously became favorite sativa gc versatile well use time dreading choice love love love',\n",
       " 'strain definitely life hype always enjoyed rarely came around growing glad access local dispensarieswould def recommend',\n",
       " 'good slight day time high still function make everything seem much better negative seem matter anymore everything seems extremely positive definitely going ordering point',\n",
       " 'sour diesel one sativadom strain id describe perfect daytime use although little much closer bed id best describe good cutting crap thats getting way productivity without negatively affecting cognitive function significantly negative extent']"
      ]
     },
     "execution_count": 19,
     "metadata": {},
     "output_type": "execute_result"
    }
   ],
   "source": [
    "sour_d =  rr['sativa/sour-diesel'].dropna().tolist()"
   ]
  },
  {
   "cell_type": "code",
   "execution_count": 20,
   "metadata": {},
   "outputs": [],
   "source": [
    "gsc =rr['hybrid/gsc'].dropna().tolist()\n",
    "green_crack = rr['sativa/green-crack'].dropna().tolist()\n",
    "ogk = rr['hybrid/og-kush'].dropna().tolist()\n",
    "gdp = rr['indica/granddaddy-purple'].dropna().tolist()"
   ]
  },
  {
   "cell_type": "code",
   "execution_count": 22,
   "metadata": {},
   "outputs": [],
   "source": [
    "glue = rr['hybrid/original-glue'].dropna().tolist()\n",
    "ww = rr['hybrid/white-widow'].dropna().tolist()"
   ]
  },
  {
   "cell_type": "code",
   "execution_count": 26,
   "metadata": {},
   "outputs": [
    {
     "data": {
      "text/plain": [
       "2269"
      ]
     },
     "execution_count": 26,
     "metadata": {},
     "output_type": "execute_result"
    }
   ],
   "source": [
    "all_strains = blu_dream + gsc + green_crack + sour_d + ogk + gdp + glue + ww\n",
    "len(all_strains)"
   ]
  },
  {
   "cell_type": "code",
   "execution_count": 27,
   "metadata": {},
   "outputs": [],
   "source": [
    "stopwords_ = \"a,able,about,across,after,all,almost,also,am,among,an,and,any,\\\n",
    "are,as,at,be,because,been,but,by,can,could,dear,did,do,does,either,\\\n",
    "else,ever,every,for,from,get,got,had,has,have,he,her,hers,him,his,\\\n",
    "how,however,i,if,in,into,is,it,its,just,least,let,like,likely,may,\\\n",
    "me,might,most,must,my,neither,no,of,off,often,on,only,or,other,our,\\\n",
    "own,rather,said,say,says,she,should,since,so,some,than,that,the,their,\\\n",
    "them,then,there,these,they,this,tis,to,too,twas,us,wants,was,we,were,\\\n",
    "what,when,where,which,while,who,whom,why,will,with,would,yet,you,your]\".split(',')"
   ]
  },
  {
   "cell_type": "code",
   "execution_count": 30,
   "metadata": {},
   "outputs": [],
   "source": [
    "TFID = TfidfVectorizer(stop_words=stopwords_)\n",
    "all_strains_tf = TFID.fit_transform(all_strains)"
   ]
  },
  {
   "cell_type": "code",
   "execution_count": 69,
   "metadata": {},
   "outputs": [
    {
     "ename": "AttributeError",
     "evalue": "tosparse not found",
     "output_type": "error",
     "traceback": [
      "\u001b[0;31m---------------------------------------------------------------------------\u001b[0m",
      "\u001b[0;31mAttributeError\u001b[0m                            Traceback (most recent call last)",
      "\u001b[0;32m<ipython-input-69-57c08d15188a>\u001b[0m in \u001b[0;36m<module>\u001b[0;34m\u001b[0m\n\u001b[0;32m----> 1\u001b[0;31m \u001b[0mall_strains_mat\u001b[0m\u001b[0;34m,\u001b[0m \u001b[0mall_bow\u001b[0m \u001b[0;34m=\u001b[0m \u001b[0mstrain_to_vec\u001b[0m\u001b[0;34m(\u001b[0m\u001b[0mall_strains\u001b[0m\u001b[0;34m)\u001b[0m\u001b[0;34m\u001b[0m\u001b[0;34m\u001b[0m\u001b[0m\n\u001b[0m\u001b[1;32m      2\u001b[0m \u001b[0mall_strains_mat\u001b[0m\u001b[0;34m\u001b[0m\u001b[0;34m\u001b[0m\u001b[0m\n",
      "\u001b[0;32m<ipython-input-68-0a4d7abcc118>\u001b[0m in \u001b[0;36mstrain_to_vec\u001b[0;34m(s)\u001b[0m\n\u001b[1;32m      4\u001b[0m     \u001b[0mstrain_tf\u001b[0m \u001b[0;34m=\u001b[0m \u001b[0mTFID\u001b[0m\u001b[0;34m.\u001b[0m\u001b[0mfit_transform\u001b[0m\u001b[0;34m(\u001b[0m\u001b[0ms\u001b[0m\u001b[0;34m)\u001b[0m\u001b[0;34m\u001b[0m\u001b[0;34m\u001b[0m\u001b[0m\n\u001b[1;32m      5\u001b[0m     \u001b[0mbow\u001b[0m \u001b[0;34m=\u001b[0m \u001b[0mTFID\u001b[0m\u001b[0;34m.\u001b[0m\u001b[0mvocabulary_\u001b[0m\u001b[0;34m\u001b[0m\u001b[0;34m\u001b[0m\u001b[0m\n\u001b[0;32m----> 6\u001b[0;31m     \u001b[0mstrain_vec\u001b[0m \u001b[0;34m=\u001b[0m \u001b[0mstrain_tf\u001b[0m\u001b[0;34m.\u001b[0m\u001b[0mtosparse\u001b[0m\u001b[0;34m(\u001b[0m\u001b[0;34m)\u001b[0m\u001b[0;34m\u001b[0m\u001b[0;34m\u001b[0m\u001b[0m\n\u001b[0m\u001b[1;32m      7\u001b[0m     \u001b[0;31m#strain_vec = new.flatten()\u001b[0m\u001b[0;34m\u001b[0m\u001b[0;34m\u001b[0m\u001b[0;34m\u001b[0m\u001b[0m\n\u001b[1;32m      8\u001b[0m     \u001b[0;32mreturn\u001b[0m \u001b[0mstrain_vec\u001b[0m\u001b[0;34m,\u001b[0m \u001b[0mbow\u001b[0m\u001b[0;34m\u001b[0m\u001b[0;34m\u001b[0m\u001b[0m\n",
      "\u001b[0;32m~/anaconda3/lib/python3.6/site-packages/scipy/sparse/base.py\u001b[0m in \u001b[0;36m__getattr__\u001b[0;34m(self, attr)\u001b[0m\n\u001b[1;32m    687\u001b[0m             \u001b[0;32mreturn\u001b[0m \u001b[0mself\u001b[0m\u001b[0;34m.\u001b[0m\u001b[0mgetnnz\u001b[0m\u001b[0;34m(\u001b[0m\u001b[0;34m)\u001b[0m\u001b[0;34m\u001b[0m\u001b[0;34m\u001b[0m\u001b[0m\n\u001b[1;32m    688\u001b[0m         \u001b[0;32melse\u001b[0m\u001b[0;34m:\u001b[0m\u001b[0;34m\u001b[0m\u001b[0;34m\u001b[0m\u001b[0m\n\u001b[0;32m--> 689\u001b[0;31m             \u001b[0;32mraise\u001b[0m \u001b[0mAttributeError\u001b[0m\u001b[0;34m(\u001b[0m\u001b[0mattr\u001b[0m \u001b[0;34m+\u001b[0m \u001b[0;34m\" not found\"\u001b[0m\u001b[0;34m)\u001b[0m\u001b[0;34m\u001b[0m\u001b[0;34m\u001b[0m\u001b[0m\n\u001b[0m\u001b[1;32m    690\u001b[0m \u001b[0;34m\u001b[0m\u001b[0m\n\u001b[1;32m    691\u001b[0m     \u001b[0;32mdef\u001b[0m \u001b[0mtranspose\u001b[0m\u001b[0;34m(\u001b[0m\u001b[0mself\u001b[0m\u001b[0;34m,\u001b[0m \u001b[0maxes\u001b[0m\u001b[0;34m=\u001b[0m\u001b[0;32mNone\u001b[0m\u001b[0;34m,\u001b[0m \u001b[0mcopy\u001b[0m\u001b[0;34m=\u001b[0m\u001b[0;32mFalse\u001b[0m\u001b[0;34m)\u001b[0m\u001b[0;34m:\u001b[0m\u001b[0;34m\u001b[0m\u001b[0;34m\u001b[0m\u001b[0m\n",
      "\u001b[0;31mAttributeError\u001b[0m: tosparse not found"
     ]
    }
   ],
   "source": [
    "all_strains_mat, all_bow = strain_to_vec(all_strains)\n",
    "all_strains_mat"
   ]
  },
  {
   "cell_type": "code",
   "execution_count": 68,
   "metadata": {},
   "outputs": [],
   "source": [
    "#Vectorize the reviews for all of my strains\n",
    "def strain_to_vec(s):\n",
    "    TFID = TfidfVectorizer(stop_words='english', vocabulary=all_bow)\n",
    "    strain_tf = TFID.fit_transform(s)\n",
    "    bow = TFID.vocabulary_\n",
    "    strain_vec = strain_tf.tosparse()\n",
    "    #strain_vec = new.flatten()\n",
    "    return strain_vec, bow"
   ]
  },
  {
   "cell_type": "code",
   "execution_count": 47,
   "metadata": {},
   "outputs": [],
   "source": [
    "blu_dream_vec, blu_bow = strain_to_vec(blu_dream)\n",
    "green_crack_vec, green_bow = strain_to_vec(green_crack)\n",
    "ogk_vec, ogk_bow = strain_to_vec(ogk)\n",
    "gdp_vec, gdp_bow= strain_to_vec(gdp)\n",
    "sour_d_vec, sour_d_bow = strain_to_vec(sour_d)\n",
    "gsc_vec, gsc_bow = strain_to_vec(gsc)\n",
    "glue_vec, glue_bow = strain_to_vec(glue)\n",
    "ww_vec, ww_bow = strain_to_vec(ww)"
   ]
  },
  {
   "cell_type": "code",
   "execution_count": 58,
   "metadata": {},
   "outputs": [
    {
     "data": {
      "text/plain": [
       "(1843646,)"
      ]
     },
     "execution_count": 58,
     "metadata": {},
     "output_type": "execute_result"
    }
   ],
   "source": [
    "gdp_vec.shape"
   ]
  },
  {
   "cell_type": "code",
   "execution_count": 59,
   "metadata": {},
   "outputs": [],
   "source": [
    "new_blu = blu_dream_vec.reshape((3001123,1))\n",
    "new_greencrack = green_crack_vec.reshape((1677302,1))\n",
    "new_ogk = ogk_vec.reshape((1309959,1))\n",
    "new_gsc = gsc_vec.reshape((1933749,1))\n",
    "new_sourd = sour_d_vec.reshape((3410052,1))\n",
    "new_gdp = gdp_vec.reshape((1843646,1))\n",
    "new_ww = ww_vec.reshape((984202,1))\n",
    "new_glue = glue_vec.reshape((1566406,1))"
   ]
  },
  {
   "cell_type": "code",
   "execution_count": 44,
   "metadata": {},
   "outputs": [],
   "source": [
    "#From internet can pass in two in \n",
    "\n",
    "def cos_sim(a, b):\n",
    "\t\"\"\"Takes 2 vectors a, b and returns the cosine similarity according \n",
    "\tto the definition of the dot product\n",
    "\t\"\"\"\n",
    "\tdot_product = np.dot(a, b)\n",
    "\tnorm_a = np.linalg.norm(a)\n",
    "\tnorm_b = np.linalg.norm(b)\n",
    "\treturn dot_product / (norm_a * norm_b)\n"
   ]
  },
  {
   "cell_type": "code",
   "execution_count": 41,
   "metadata": {},
   "outputs": [],
   "source": [
    "#final option \n",
    "TfidfVec = TfidfVectorizer(stop_words='english', vocabulary=all_bow)\n",
    "def cos_similarity(textlist):\n",
    "    tfidf = TfidfVec.fit_transform(textlist)\n",
    "    return (tfidf * tfidf.T).toarray()"
   ]
  },
  {
   "cell_type": "code",
   "execution_count": 45,
   "metadata": {},
   "outputs": [
    {
     "ename": "TypeError",
     "evalue": "cos_similarity() takes 1 positional argument but 2 were given",
     "output_type": "error",
     "traceback": [
      "\u001b[0;31m---------------------------------------------------------------------------\u001b[0m",
      "\u001b[0;31mTypeError\u001b[0m                                 Traceback (most recent call last)",
      "\u001b[0;32m<ipython-input-45-2d2ad477fde1>\u001b[0m in \u001b[0;36m<module>\u001b[0;34m\u001b[0m\n\u001b[1;32m      1\u001b[0m \u001b[0;31m#sklearn cosine similarity function!\u001b[0m\u001b[0;34m\u001b[0m\u001b[0;34m\u001b[0m\u001b[0;34m\u001b[0m\u001b[0m\n\u001b[1;32m      2\u001b[0m \u001b[0;34m\u001b[0m\u001b[0m\n\u001b[0;32m----> 3\u001b[0;31m \u001b[0mgc_bd_sim\u001b[0m \u001b[0;34m=\u001b[0m \u001b[0mcos_similarity\u001b[0m\u001b[0;34m(\u001b[0m\u001b[0mgreen_crack_vec\u001b[0m\u001b[0;34m,\u001b[0m \u001b[0mblu_dream_vec\u001b[0m\u001b[0;34m)\u001b[0m\u001b[0;34m\u001b[0m\u001b[0;34m\u001b[0m\u001b[0m\n\u001b[0m",
      "\u001b[0;31mTypeError\u001b[0m: cos_similarity() takes 1 positional argument but 2 were given"
     ]
    }
   ],
   "source": [
    "#sklearn cosine similarity function!\n",
    "\n",
    "gc_bd_sim = cos_similarity(green_crack_vec, blu_dream_vec)"
   ]
  },
  {
   "cell_type": "code",
   "execution_count": 248,
   "metadata": {},
   "outputs": [
    {
     "data": {
      "text/plain": [
       "array([[0.02035895, 0.        , 0.02357612, ..., 0.        , 0.        ,\n",
       "        0.        ],\n",
       "       [0.08194762, 0.        , 0.09489718, ..., 0.        , 0.34159986,\n",
       "        0.        ],\n",
       "       [0.        , 0.03689458, 0.01979203, ..., 0.        , 0.        ,\n",
       "        0.        ],\n",
       "       ...,\n",
       "       [0.01942683, 0.0577606 , 0.04008006, ..., 0.03292889, 0.        ,\n",
       "        0.        ],\n",
       "       [0.01735998, 0.        , 0.0436779 , ..., 0.        , 0.07236534,\n",
       "        0.        ],\n",
       "       [0.        , 0.        , 0.06891911, ..., 0.        , 0.        ,\n",
       "        0.        ]])"
      ]
     },
     "execution_count": 248,
     "metadata": {},
     "output_type": "execute_result"
    }
   ],
   "source": [
    "gc_bd_sim"
   ]
  },
  {
   "cell_type": "code",
   "execution_count": 46,
   "metadata": {},
   "outputs": [
    {
     "ename": "ValueError",
     "evalue": "shapes (1677302,) and (3001123,) not aligned: 1677302 (dim 0) != 3001123 (dim 0)",
     "output_type": "error",
     "traceback": [
      "\u001b[0;31m---------------------------------------------------------------------------\u001b[0m",
      "\u001b[0;31mValueError\u001b[0m                                Traceback (most recent call last)",
      "\u001b[0;32m<ipython-input-46-349ce24ac0cf>\u001b[0m in \u001b[0;36m<module>\u001b[0;34m\u001b[0m\n\u001b[0;32m----> 1\u001b[0;31m \u001b[0;34m(\u001b[0m\u001b[0mcos_sim\u001b[0m\u001b[0;34m(\u001b[0m\u001b[0mgreen_crack_vec\u001b[0m\u001b[0;34m,\u001b[0m \u001b[0mblu_dream_vec\u001b[0m\u001b[0;34m.\u001b[0m\u001b[0mT\u001b[0m\u001b[0;34m)\u001b[0m\u001b[0;34m)\u001b[0m\u001b[0;34m.\u001b[0m\u001b[0mshape\u001b[0m\u001b[0;34m\u001b[0m\u001b[0;34m\u001b[0m\u001b[0m\n\u001b[0m",
      "\u001b[0;32m<ipython-input-44-157618c525f6>\u001b[0m in \u001b[0;36mcos_sim\u001b[0;34m(a, b)\u001b[0m\n\u001b[1;32m      5\u001b[0m         \u001b[0mto\u001b[0m \u001b[0mthe\u001b[0m \u001b[0mdefinition\u001b[0m \u001b[0mof\u001b[0m \u001b[0mthe\u001b[0m \u001b[0mdot\u001b[0m \u001b[0mproduct\u001b[0m\u001b[0;34m\u001b[0m\u001b[0;34m\u001b[0m\u001b[0m\n\u001b[1;32m      6\u001b[0m \t\"\"\"\n\u001b[0;32m----> 7\u001b[0;31m         \u001b[0mdot_product\u001b[0m \u001b[0;34m=\u001b[0m \u001b[0mnp\u001b[0m\u001b[0;34m.\u001b[0m\u001b[0mdot\u001b[0m\u001b[0;34m(\u001b[0m\u001b[0ma\u001b[0m\u001b[0;34m,\u001b[0m \u001b[0mb\u001b[0m\u001b[0;34m)\u001b[0m\u001b[0;34m\u001b[0m\u001b[0;34m\u001b[0m\u001b[0m\n\u001b[0m\u001b[1;32m      8\u001b[0m         \u001b[0mnorm_a\u001b[0m \u001b[0;34m=\u001b[0m \u001b[0mnp\u001b[0m\u001b[0;34m.\u001b[0m\u001b[0mlinalg\u001b[0m\u001b[0;34m.\u001b[0m\u001b[0mnorm\u001b[0m\u001b[0;34m(\u001b[0m\u001b[0ma\u001b[0m\u001b[0;34m)\u001b[0m\u001b[0;34m\u001b[0m\u001b[0;34m\u001b[0m\u001b[0m\n\u001b[1;32m      9\u001b[0m         \u001b[0mnorm_b\u001b[0m \u001b[0;34m=\u001b[0m \u001b[0mnp\u001b[0m\u001b[0;34m.\u001b[0m\u001b[0mlinalg\u001b[0m\u001b[0;34m.\u001b[0m\u001b[0mnorm\u001b[0m\u001b[0;34m(\u001b[0m\u001b[0mb\u001b[0m\u001b[0;34m)\u001b[0m\u001b[0;34m\u001b[0m\u001b[0;34m\u001b[0m\u001b[0m\n",
      "\u001b[0;31mValueError\u001b[0m: shapes (1677302,) and (3001123,) not aligned: 1677302 (dim 0) != 3001123 (dim 0)"
     ]
    }
   ],
   "source": [
    "(cos_sim(green_crack_vec, blu_dream_vec.T)).shape"
   ]
  },
  {
   "cell_type": "markdown",
   "metadata": {},
   "source": [
    "## Clustering"
   ]
  },
  {
   "cell_type": "code",
   "execution_count": 60,
   "metadata": {},
   "outputs": [],
   "source": [
    "linkages = ['ward', 'complete', 'average']\n",
    "hierarchical_clustering_algorithms = {\n",
    "    (linkage, n): AgglomerativeClustering(\n",
    "        n_clusters=n, linkage=linkage)\n",
    "    for linkage, n in itertools.product(linkages, [2, 4, 5])\n",
    "}"
   ]
  },
  {
   "cell_type": "code",
   "execution_count": 61,
   "metadata": {},
   "outputs": [
    {
     "ename": "ValueError",
     "evalue": "Expected 2D array, got 1D array instead:\narray=[0. 0. 0. ... 0. 0. 0.].\nReshape your data either using array.reshape(-1, 1) if your data has a single feature or array.reshape(1, -1) if it contains a single sample.",
     "output_type": "error",
     "traceback": [
      "\u001b[0;31m---------------------------------------------------------------------------\u001b[0m",
      "\u001b[0;31mValueError\u001b[0m                                Traceback (most recent call last)",
      "\u001b[0;32m<ipython-input-61-1ec17da92275>\u001b[0m in \u001b[0;36m<module>\u001b[0;34m\u001b[0m\n\u001b[1;32m      3\u001b[0m \u001b[0;32mfor\u001b[0m \u001b[0;34m(\u001b[0m\u001b[0mlinkage\u001b[0m\u001b[0;34m,\u001b[0m \u001b[0mn\u001b[0m\u001b[0;34m)\u001b[0m\u001b[0;34m,\u001b[0m \u001b[0max\u001b[0m \u001b[0;32min\u001b[0m \u001b[0mzip\u001b[0m\u001b[0;34m(\u001b[0m\u001b[0mhierarchical_clustering_algorithms\u001b[0m\u001b[0;34m,\u001b[0m \u001b[0maxs\u001b[0m\u001b[0;34m.\u001b[0m\u001b[0mflatten\u001b[0m\u001b[0;34m(\u001b[0m\u001b[0;34m)\u001b[0m\u001b[0;34m)\u001b[0m\u001b[0;34m:\u001b[0m\u001b[0;34m\u001b[0m\u001b[0;34m\u001b[0m\u001b[0m\n\u001b[1;32m      4\u001b[0m     \u001b[0mclusterer\u001b[0m \u001b[0;34m=\u001b[0m \u001b[0mhierarchical_clustering_algorithms\u001b[0m\u001b[0;34m[\u001b[0m\u001b[0;34m(\u001b[0m\u001b[0mlinkage\u001b[0m\u001b[0;34m,\u001b[0m \u001b[0mn\u001b[0m\u001b[0;34m)\u001b[0m\u001b[0;34m]\u001b[0m\u001b[0;34m\u001b[0m\u001b[0;34m\u001b[0m\u001b[0m\n\u001b[0;32m----> 5\u001b[0;31m     \u001b[0mclusterer\u001b[0m\u001b[0;34m.\u001b[0m\u001b[0mfit\u001b[0m\u001b[0;34m(\u001b[0m\u001b[0mall_strains_vec\u001b[0m\u001b[0;34m)\u001b[0m\u001b[0;34m\u001b[0m\u001b[0;34m\u001b[0m\u001b[0m\n\u001b[0m\u001b[1;32m      6\u001b[0m     \u001b[0mlabels\u001b[0m \u001b[0;34m=\u001b[0m \u001b[0mclusterer\u001b[0m\u001b[0;34m.\u001b[0m\u001b[0mlabels_\u001b[0m\u001b[0;34m\u001b[0m\u001b[0;34m\u001b[0m\u001b[0m\n\u001b[1;32m      7\u001b[0m     \u001b[0max\u001b[0m\u001b[0;34m.\u001b[0m\u001b[0maxis\u001b[0m\u001b[0;34m(\u001b[0m\u001b[0;34m'off'\u001b[0m\u001b[0;34m)\u001b[0m\u001b[0;34m\u001b[0m\u001b[0;34m\u001b[0m\u001b[0m\n",
      "\u001b[0;32m~/anaconda3/lib/python3.6/site-packages/sklearn/cluster/hierarchical.py\u001b[0m in \u001b[0;36mfit\u001b[0;34m(self, X, y)\u001b[0m\n\u001b[1;32m    783\u001b[0m                           \u001b[0;34m' It has been deprecated in version 0.20 and will be'\u001b[0m\u001b[0;34m\u001b[0m\u001b[0;34m\u001b[0m\u001b[0m\n\u001b[1;32m    784\u001b[0m                           'removed in 0.22', DeprecationWarning)\n\u001b[0;32m--> 785\u001b[0;31m         \u001b[0mX\u001b[0m \u001b[0;34m=\u001b[0m \u001b[0mcheck_array\u001b[0m\u001b[0;34m(\u001b[0m\u001b[0mX\u001b[0m\u001b[0;34m,\u001b[0m \u001b[0mensure_min_samples\u001b[0m\u001b[0;34m=\u001b[0m\u001b[0;36m2\u001b[0m\u001b[0;34m,\u001b[0m \u001b[0mestimator\u001b[0m\u001b[0;34m=\u001b[0m\u001b[0mself\u001b[0m\u001b[0;34m)\u001b[0m\u001b[0;34m\u001b[0m\u001b[0;34m\u001b[0m\u001b[0m\n\u001b[0m\u001b[1;32m    786\u001b[0m         \u001b[0mmemory\u001b[0m \u001b[0;34m=\u001b[0m \u001b[0mcheck_memory\u001b[0m\u001b[0;34m(\u001b[0m\u001b[0mself\u001b[0m\u001b[0;34m.\u001b[0m\u001b[0mmemory\u001b[0m\u001b[0;34m)\u001b[0m\u001b[0;34m\u001b[0m\u001b[0;34m\u001b[0m\u001b[0m\n\u001b[1;32m    787\u001b[0m \u001b[0;34m\u001b[0m\u001b[0m\n",
      "\u001b[0;32m~/anaconda3/lib/python3.6/site-packages/sklearn/utils/validation.py\u001b[0m in \u001b[0;36mcheck_array\u001b[0;34m(array, accept_sparse, accept_large_sparse, dtype, order, copy, force_all_finite, ensure_2d, allow_nd, ensure_min_samples, ensure_min_features, warn_on_dtype, estimator)\u001b[0m\n\u001b[1;32m    550\u001b[0m                     \u001b[0;34m\"Reshape your data either using array.reshape(-1, 1) if \"\u001b[0m\u001b[0;34m\u001b[0m\u001b[0;34m\u001b[0m\u001b[0m\n\u001b[1;32m    551\u001b[0m                     \u001b[0;34m\"your data has a single feature or array.reshape(1, -1) \"\u001b[0m\u001b[0;34m\u001b[0m\u001b[0;34m\u001b[0m\u001b[0m\n\u001b[0;32m--> 552\u001b[0;31m                     \"if it contains a single sample.\".format(array))\n\u001b[0m\u001b[1;32m    553\u001b[0m \u001b[0;34m\u001b[0m\u001b[0m\n\u001b[1;32m    554\u001b[0m         \u001b[0;31m# in the future np.flexible dtypes will be handled like object dtypes\u001b[0m\u001b[0;34m\u001b[0m\u001b[0;34m\u001b[0m\u001b[0;34m\u001b[0m\u001b[0m\n",
      "\u001b[0;31mValueError\u001b[0m: Expected 2D array, got 1D array instead:\narray=[0. 0. 0. ... 0. 0. 0.].\nReshape your data either using array.reshape(-1, 1) if your data has a single feature or array.reshape(1, -1) if it contains a single sample."
     ]
    },
    {
     "data": {
      "image/png": "[encoded data removed]",
      "text/plain": [
       "<Figure size 1008x1008 with 9 Axes>"
      ]
     },
     "metadata": {
      "needs_background": "light"
     },
     "output_type": "display_data"
    }
   ],
   "source": [
    "fig, axs = plt.subplots(3, 3, figsize=(14, 14))\n",
    "\n",
    "for (linkage, n), ax in zip(hierarchical_clustering_algorithms, axs.flatten()):\n",
    "    clusterer = hierarchical_clustering_algorithms[(linkage, n)]\n",
    "    clusterer.fit(all_strains_vec)\n",
    "    labels = clusterer.labels_\n",
    "    ax.axis('off')\n",
    "    ax.scatter(all_strains_vec[:, 0], all_strains_vec[:, 1], c=labels)\n",
    "    ax.set_title(f\"{linkage}, {n}\")"
   ]
  },
  {
   "cell_type": "code",
   "execution_count": 307,
   "metadata": {},
   "outputs": [
    {
     "ename": "ValueError",
     "evalue": "cannot reshape array of size 4218915 into shape (1,)",
     "output_type": "error",
     "traceback": [
      "\u001b[0;31m---------------------------------------------------------------------------\u001b[0m",
      "\u001b[0;31mValueError\u001b[0m                                Traceback (most recent call last)",
      "\u001b[0;32m<ipython-input-307-5332a62967ff>\u001b[0m in \u001b[0;36m<module>\u001b[0;34m\u001b[0m\n\u001b[1;32m      1\u001b[0m \u001b[0mvec2stack\u001b[0m \u001b[0;34m=\u001b[0m \u001b[0;34m[\u001b[0m\u001b[0mblu_dream_vec\u001b[0m\u001b[0;34m,\u001b[0m \u001b[0msour_d_vec\u001b[0m\u001b[0;34m,\u001b[0m \u001b[0mgdp_vec\u001b[0m\u001b[0;34m]\u001b[0m\u001b[0;34m\u001b[0m\u001b[0;34m\u001b[0m\u001b[0m\n\u001b[1;32m      2\u001b[0m \u001b[0mstacked_vec\u001b[0m \u001b[0;34m=\u001b[0m \u001b[0mnp\u001b[0m\u001b[0;34m.\u001b[0m\u001b[0mconcatenate\u001b[0m\u001b[0;34m(\u001b[0m\u001b[0;34m(\u001b[0m\u001b[0mblu_dream_vec\u001b[0m\u001b[0;34m,\u001b[0m \u001b[0mgdp_vec\u001b[0m\u001b[0;34m)\u001b[0m\u001b[0;34m)\u001b[0m\u001b[0;34m\u001b[0m\u001b[0;34m\u001b[0m\u001b[0m\n\u001b[0;32m----> 3\u001b[0;31m \u001b[0mstacked_vec\u001b[0m\u001b[0;34m.\u001b[0m\u001b[0mreshape\u001b[0m\u001b[0;34m(\u001b[0m\u001b[0;36m1\u001b[0m\u001b[0;34m)\u001b[0m\u001b[0;34m\u001b[0m\u001b[0;34m\u001b[0m\u001b[0m\n\u001b[0m",
      "\u001b[0;31mValueError\u001b[0m: cannot reshape array of size 4218915 into shape (1,)"
     ]
    }
   ],
   "source": [
    "vec2stack = [blu_dream_vec, sour_d_vec, gdp_vec]\n",
    "stacked_vec = np.concatenate((blu_dream_vec, gdp_vec))"
   ]
  },
  {
   "cell_type": "code",
   "execution_count": 270,
   "metadata": {},
   "outputs": [],
   "source": [
    "cluster = AgglomerativeClustering(affinity='cosine')"
   ]
  },
  {
   "cell_type": "code",
   "execution_count": 306,
   "metadata": {},
   "outputs": [
    {
     "ename": "ValueError",
     "evalue": "Expected 2D array, got 1D array instead:\narray=[0. 0. 0. ... 0. 0. 0.].\nReshape your data either using array.reshape(-1, 1) if your data has a single feature or array.reshape(1, -1) if it contains a single sample.",
     "output_type": "error",
     "traceback": [
      "\u001b[0;31m---------------------------------------------------------------------------\u001b[0m",
      "\u001b[0;31mValueError\u001b[0m                                Traceback (most recent call last)",
      "\u001b[0;32m<ipython-input-306-2b98cd27936b>\u001b[0m in \u001b[0;36m<module>\u001b[0;34m\u001b[0m\n\u001b[0;32m----> 1\u001b[0;31m \u001b[0mcluster\u001b[0m\u001b[0;34m.\u001b[0m\u001b[0mfit\u001b[0m\u001b[0;34m(\u001b[0m\u001b[0mstacked_vec\u001b[0m\u001b[0;34m)\u001b[0m\u001b[0;34m\u001b[0m\u001b[0;34m\u001b[0m\u001b[0m\n\u001b[0m",
      "\u001b[0;32m~/anaconda3/lib/python3.6/site-packages/sklearn/cluster/hierarchical.py\u001b[0m in \u001b[0;36mfit\u001b[0;34m(self, X, y)\u001b[0m\n\u001b[1;32m    783\u001b[0m                           \u001b[0;34m' It has been deprecated in version 0.20 and will be'\u001b[0m\u001b[0;34m\u001b[0m\u001b[0;34m\u001b[0m\u001b[0m\n\u001b[1;32m    784\u001b[0m                           'removed in 0.22', DeprecationWarning)\n\u001b[0;32m--> 785\u001b[0;31m         \u001b[0mX\u001b[0m \u001b[0;34m=\u001b[0m \u001b[0mcheck_array\u001b[0m\u001b[0;34m(\u001b[0m\u001b[0mX\u001b[0m\u001b[0;34m,\u001b[0m \u001b[0mensure_min_samples\u001b[0m\u001b[0;34m=\u001b[0m\u001b[0;36m2\u001b[0m\u001b[0;34m,\u001b[0m \u001b[0mestimator\u001b[0m\u001b[0;34m=\u001b[0m\u001b[0mself\u001b[0m\u001b[0;34m)\u001b[0m\u001b[0;34m\u001b[0m\u001b[0;34m\u001b[0m\u001b[0m\n\u001b[0m\u001b[1;32m    786\u001b[0m         \u001b[0mmemory\u001b[0m \u001b[0;34m=\u001b[0m \u001b[0mcheck_memory\u001b[0m\u001b[0;34m(\u001b[0m\u001b[0mself\u001b[0m\u001b[0;34m.\u001b[0m\u001b[0mmemory\u001b[0m\u001b[0;34m)\u001b[0m\u001b[0;34m\u001b[0m\u001b[0;34m\u001b[0m\u001b[0m\n\u001b[1;32m    787\u001b[0m \u001b[0;34m\u001b[0m\u001b[0m\n",
      "\u001b[0;32m~/anaconda3/lib/python3.6/site-packages/sklearn/utils/validation.py\u001b[0m in \u001b[0;36mcheck_array\u001b[0;34m(array, accept_sparse, accept_large_sparse, dtype, order, copy, force_all_finite, ensure_2d, allow_nd, ensure_min_samples, ensure_min_features, warn_on_dtype, estimator)\u001b[0m\n\u001b[1;32m    550\u001b[0m                     \u001b[0;34m\"Reshape your data either using array.reshape(-1, 1) if \"\u001b[0m\u001b[0;34m\u001b[0m\u001b[0;34m\u001b[0m\u001b[0m\n\u001b[1;32m    551\u001b[0m                     \u001b[0;34m\"your data has a single feature or array.reshape(1, -1) \"\u001b[0m\u001b[0;34m\u001b[0m\u001b[0;34m\u001b[0m\u001b[0m\n\u001b[0;32m--> 552\u001b[0;31m                     \"if it contains a single sample.\".format(array))\n\u001b[0m\u001b[1;32m    553\u001b[0m \u001b[0;34m\u001b[0m\u001b[0m\n\u001b[1;32m    554\u001b[0m         \u001b[0;31m# in the future np.flexible dtypes will be handled like object dtypes\u001b[0m\u001b[0;34m\u001b[0m\u001b[0;34m\u001b[0m\u001b[0;34m\u001b[0m\u001b[0m\n",
      "\u001b[0;31mValueError\u001b[0m: Expected 2D array, got 1D array instead:\narray=[0. 0. 0. ... 0. 0. 0.].\nReshape your data either using array.reshape(-1, 1) if your data has a single feature or array.reshape(1, -1) if it contains a single sample."
     ]
    }
   ],
   "source": [
    "cluster.fit(stacked_vec)"
   ]
  },
  {
   "cell_type": "code",
   "execution_count": null,
   "metadata": {},
   "outputs": [],
   "source": []
  }
 ],
 "metadata": {
  "kernelspec": {
   "display_name": "Python 3",
   "language": "python",
   "name": "python3"
  },
  "language_info": {
   "codemirror_mode": {
    "name": "ipython",
    "version": 3
   },
   "file_extension": ".py",
   "mimetype": "text/x-python",
   "name": "python",
   "nbconvert_exporter": "python",
   "pygments_lexer": "ipython3",
   "version": "3.6.8"
  }
 },
 "nbformat": 4,
 "nbformat_minor": 2
}
