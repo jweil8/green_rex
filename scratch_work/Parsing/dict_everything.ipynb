{
 "cells": [
  {
   "cell_type": "code",
   "execution_count": 21,
   "metadata": {},
   "outputs": [],
   "source": [
    "from __future__ import print_function\n",
    "\n",
    "import time\n",
    "import requests\n",
    "from bs4 import BeautifulSoup\n",
    "import pymongo\n",
    "import pandas as pd\n",
    "import numpy as np\n",
    "import re\n",
    "import unicodedata\n",
    "\n",
    "from nltk.corpus import stopwords\n",
    "from nltk.stem import WordNetLemmatizer\n",
    "wnlzer = WordNetLemmatizer()\n",
    "\n",
    "from pprint import pprint\n",
    "from time import time\n",
    "import logging\n",
    "\n",
    "import matplotlib.pyplot as plt"
   ]
  },
  {
   "cell_type": "code",
   "execution_count": 53,
   "metadata": {},
   "outputs": [],
   "source": [
    "def list_o_strains(i):\n",
    "    LOS = []\n",
    "    r = requests.get(i)\n",
    "    soup2 = BeautifulSoup(r.content, 'html.parser')\n",
    "    strains = soup2.find_all('a', class_=\"ga_Explore_Strain_Tile\")\n",
    "    for s in strains:\n",
    "        LOS.append(str(s.attrs['href'])[1:])\n",
    "    return LOS"
   ]
  },
  {
   "cell_type": "code",
   "execution_count": 23,
   "metadata": {},
   "outputs": [],
   "source": [
    "def get_reviews2(l):\n",
    "    \"\"\"Pass in a list of URL's and return them in a mongo db table as a dicitonary with \n",
    "    {'url', 'html'} and their corresponding values\"\"\"\n",
    "    r = requests.get(l)\n",
    "    html = (r.content)\n",
    "    return html"
   ]
  },
  {
   "cell_type": "code",
   "execution_count": 32,
   "metadata": {},
   "outputs": [],
   "source": [
    "def star_int_conv(s):\n",
    "    star = (int((s[6:].split(';')[0]).strip('px'))/22)\n",
    "    return star"
   ]
  },
  {
   "cell_type": "code",
   "execution_count": 62,
   "metadata": {},
   "outputs": [],
   "source": [
    "def parse_docs2(d):\n",
    "    \"\"\"Parse the HTML docs that we have stored in a dictionary, return as a list.\n",
    "    Also scrape and parse star rating for each review \"\"\"\n",
    "    \n",
    "    strain_text= []\n",
    "    star_rate = []\n",
    "    user_name = []\n",
    "    strain_description = []\n",
    "    strain_flavors = []\n",
    "    strain_effects = []\n",
    "    effects = []\n",
    "    negs = []\n",
    "    meds = []\n",
    "    \n",
    "    soup = BeautifulSoup(d, 'html.parser')\n",
    "    \n",
    "    #get the strain review text\n",
    "    revs = soup.find_all('p',class_='strain-review__text') \n",
    "    for r in revs:\n",
    "        text = r.text\n",
    "        remove_punch = re.sub('[^A-Za-z ]' , \"\" ,text )\n",
    "        token = remove_punch.lower().split()\n",
    "        srm_token = [wnlzer.lemmatize(i) for i in token if not i in set(stopwords.words('english'))]\n",
    "        clean_text = \" \".join(srm_token)\n",
    "        strain_text.append(clean_text)\n",
    "        \n",
    "    #get the star ratings from the strains\n",
    "    tags = soup.select(\"div.div.stars\")\n",
    "    for t in tags:\n",
    "        star = t.attrs['style']\n",
    "        star_rate.append(star_int_conv(star))\n",
    "        \n",
    "    #get the user names from \n",
    "    users = soup.find_all('div', class_='strain-review__title')\n",
    "    no_add = ['damsmith', 'Suit', 'BluPrizm']\n",
    "    for u in users:\n",
    "        temp = u.find('h2')\n",
    "        if temp.text not in no_add:\n",
    "            user_name.append(temp.text)\n",
    "    \n",
    "    #get descriptions of the strains\n",
    "    desc = soup.find_all('div', itemprop='description') \n",
    "    for d in desc:\n",
    "        text = d.text\n",
    "        remove_n = re.sub('\\n' , \" \" ,text )\n",
    "        norm_text = unicodedata.normalize(\"NFKD\", remove_n)\n",
    "        strain_description.append(norm_text)\n",
    "    \n",
    "    #create list of all the effects\n",
    "    effect = soup.find_all('div', attrs={'class':'histogram-label'})\n",
    "    for e in effect:\n",
    "        strain_effects.append(e.text)\n",
    "        \n",
    "    # create smaller lists of good-effects, bad-effects, and medical uses\n",
    "    for i in strain_effects[:5]:\n",
    "        effects.append(i)\n",
    "    for i in strain_effects[10:]:\n",
    "        negs.append(i)\n",
    "    for i in strain_effects[5:10]:\n",
    "        meds.append(i)\n",
    "    \n",
    "    #Create list of each strain flavor\n",
    "    flavors = soup.find_all('div', class_='flavor-name')\n",
    "    for f in flavors:\n",
    "        strain_flavors.append(f.text[3:])\n",
    "        \n",
    "    return strain_description, strain_flavors, effects, meds, negs, user_name, star_rate, strain_text "
   ]
  },
  {
   "cell_type": "code",
   "execution_count": 40,
   "metadata": {},
   "outputs": [],
   "source": [
    "def strain_dict_entry(strain, stype, desc, flavors, effects, meds, negs, user_id, userstars, userreview, straindict):\n",
    "    if straindict is None:\n",
    "        straindict = {}\n",
    "        \n",
    "    if strain not in straindict:\n",
    "        straindict[strain] = {\n",
    "            \"stype\" : stype,\n",
    "            \"general_description\" : desc,\n",
    "            \"flavor\" : flavors,\n",
    "            'effects': effects,\n",
    "            'medical_uses': meds,\n",
    "            'negatives': negs,\n",
    "            \"user_reviews\" : [] \n",
    "        }\n",
    "        \n",
    "    straindict[strain]['user_reviews'].append({'user':user_id,\n",
    "                                         'stars':userstars,\n",
    "                                         'review':userreview\n",
    "                                        })\n",
    "    return straindict"
   ]
  },
  {
   "cell_type": "code",
   "execution_count": 41,
   "metadata": {},
   "outputs": [],
   "source": [
    "def scraper_dummy1(los):\n",
    "    \"\"\"pass in a list of strains to be scraped from Leafly.\n",
    "    returns dictionary keyed by strains w/strain info(reviews) as values\"\"\"\n",
    "    cnt = 0\n",
    "    strain_d = None\n",
    "    for s in los:\n",
    "        strain = s \n",
    "        st_strain = s[7:]\n",
    "        stype = s[:6]\n",
    "        url = \"https://www.leafly.com/{}\".format(strain)\n",
    "        d = get_reviews2(url)\n",
    "        desc, flavors, effects, meds, negs, users, star_ratings, reviews = parse_docs2(d)\n",
    "        if len(desc) == 0:\n",
    "            break\n",
    "            \n",
    "        strain_d = strain_dict_entry(st_strain, stype, desc, flavors, effects, meds, \n",
    "                                     negs, users, star_ratings, reviews, strain_d)\n",
    "        if cnt % 10 == 0:\n",
    "            print(cnt)\n",
    "        cnt +=1\n",
    "            \n",
    "    return strain_d "
   ]
  },
  {
   "cell_type": "code",
   "execution_count": 54,
   "metadata": {},
   "outputs": [],
   "source": [
    "los = list_o_strains('https://www.leafly.com/explore')"
   ]
  },
  {
   "cell_type": "code",
   "execution_count": 58,
   "metadata": {},
   "outputs": [
    {
     "data": {
      "text/plain": [
       "47"
      ]
     },
     "execution_count": 58,
     "metadata": {},
     "output_type": "execute_result"
    }
   ],
   "source": [
    "los[7][:6]\n",
    "l = los[8:]\n",
    "l.remove(\"hybrid/skywalker-og\")\n",
    "l"
   ]
  },
  {
   "cell_type": "code",
   "execution_count": 59,
   "metadata": {},
   "outputs": [],
   "source": [
    "test_los = l[:3]"
   ]
  },
  {
   "cell_type": "code",
   "execution_count": 60,
   "metadata": {},
   "outputs": [
    {
     "data": {
      "text/plain": [
       "['hybrid/blue-dream', 'sativa/sour-diesel', 'hybrid/gsc']"
      ]
     },
     "execution_count": 60,
     "metadata": {},
     "output_type": "execute_result"
    }
   ],
   "source": [
    "test_los"
   ]
  },
  {
   "cell_type": "code",
   "execution_count": 61,
   "metadata": {},
   "outputs": [
    {
     "name": "stdout",
     "output_type": "stream",
     "text": [
      "0\n"
     ]
    },
    {
     "data": {
      "text/plain": [
       "{'blue-dream': {'stype': 'hybrid',\n",
       "  'general_description': ['Blue Dream, a sativa-dominant hybrid originating in California, has achieved legendary status among West Coast strains. Crossing a Blueberry indica with the sativa Haze, Blue Dream balances full-body relaxation with gentle cerebral invigoration. Novice and veteran consumers alike enjoy the level effects of Blue Dream, which ease you gently into a calm euphoria. Some Blue Dream phenotypes express a more indica-like look and feel, but the sativa-leaning variety remains most prevalent. With a sweet berry aroma redolent of its Blueberry parent, Blue Dream delivers swift symptom relief without heavy sedative effects. This makes Blue Dream a popular daytime medicine for patients treating pain, depression, nausea, and other ailments requiring a high THC strain.  '],\n",
       "  'flavor': ['Blueberry', 'Berry', 'Sweet'],\n",
       "  'effects': ['Happy', 'Relaxed', 'Euphoric', 'Uplifted', 'Creative'],\n",
       "  'medical_uses': ['Stress', 'Depression', 'Pain', 'Headaches', 'Fatigue'],\n",
       "  'negatives': ['Dry Mouth', 'Dry Eyes', 'Anxious', 'Dizzy', 'Paranoid'],\n",
       "  'user_reviews': [{'user': ['CannabisKook', 'Hillbilly39'],\n",
       "    'stars': [6.636363636363637, 5.0, 5.0],\n",
       "    'review': ['friend stoner redeyed countryman lend ear bring unto thee tale blue dreamtwas calm april night eagerly purchased eighth pungent blue dream abundance sugary trichomes paired thick density bud enough bring tear eye enthusiastically ground cheeba packed generous bowl went town eight',\n",
       "     'blue dream one favorite tasting strain strain smoke period would recommend strain lover tryblue dream']}]},\n",
       " 'sour-diesel': {'stype': 'sativa',\n",
       "  'general_description': [\"Sour Diesel, sometimes called Sour D, is an invigorating sativa-dominant strain named after its pungent, diesel-like aroma. This fast-acting strain delivers energizing, dreamy cerebral effects that have pushed Sour Diesel to its legendary status. Stress, pain, and depression fade away in long-lasting relief that makes Sour Diesel a top choice among medical patients. This strain took root in the early 90's, and it is believed to have descended from Chemdog 91 and Super Skunk. \"],\n",
       "  'flavor': ['Diesel', 'Pungent', 'Earthy'],\n",
       "  'effects': ['Happy', 'Uplifted', 'Energetic', 'Euphoric', 'Relaxed'],\n",
       "  'medical_uses': ['Stress',\n",
       "   'Depression',\n",
       "   'Pain',\n",
       "   'Fatigue',\n",
       "   'Lack of Appetite'],\n",
       "  'negatives': ['Dry Mouth', 'Dry Eyes', 'Anxious', 'Paranoid', 'Dizzy'],\n",
       "  'user_reviews': [{'user': ['SexMetalBarbie420', 'SpanishGuitarist'],\n",
       "    'stars': [6.590909090909091, 5.0, 5.0],\n",
       "    'review': ['ideal strain god got anti depressant found strain smoke couldnt happier feel sexier im happy im horny dont mind eating yet somehow im losing weight love moving dont mind housework absolute bliss',\n",
       "     'sour diesel refined sativa blend early shine even today chemdawg effect good way enough afghani root create body high mexican sativa root happy creative effect allergy headache without making one feel stupid paramount take care growing make sure get proper nutrient watc']}]},\n",
       " 'gsc': {'stype': 'hybrid',\n",
       "  'general_description': ['GSC, formerly known as Girl Scout Cookies, is an OG Kush and Durban Poison hybrid cross whose reputation grew too large to stay within the borders of its California homeland. With a sweet and earthy aroma, GSC launches you to euphoria’s top floor where full-body relaxation meets a time-bending cerebral space. A little goes a long way with this hybrid, whose THC heights have won GSC numerous Cannabis Cup awards. Patients needing a strong dose of relief, however, may look to GSC for severe pain, nausea, and appetite loss. There are several different phenotypes of the GSC strain including Thin Mint and Platinum Cookies, which exhibit some variation in appearance and effect. Typically, however, GSC expresses its beauty in twisting green calyxes wrapped in purple leaves and fiery orange hairs. Patients and consumers looking to cultivate this cannabis staple themselves should wait 9 to 10 weeks for their indoor plants to finish flowering. '],\n",
       "  'flavor': ['Sweet', 'Earthy', 'Flowery'],\n",
       "  'effects': ['Happy', 'Relaxed', 'Euphoric', 'Uplifted', 'Creative'],\n",
       "  'medical_uses': ['Stress',\n",
       "   'Depression',\n",
       "   'Pain',\n",
       "   'Lack of Appetite',\n",
       "   'Insomnia'],\n",
       "  'negatives': ['Dry Mouth', 'Dry Eyes', 'Dizzy', 'Anxious', 'Paranoid'],\n",
       "  'user_reviews': [{'user': ['kimdavis3', 'Hillbilly39'],\n",
       "    'stars': [6.7727272727272725, 5.0, 4.0],\n",
       "    'review': ['one favorite strain daily user effect strong intense enjoyable mostly head high make talkative happy goofy generally good spirit could still focus task long werent complicated definitely strain want unstructured party environmenti would suggest using',\n",
       "     'girl scout cooky nice hyrbid tasty got sativa feel girl scout cooky favorite hybrid say nothing bad girl scout cooky']}]}}"
      ]
     },
     "execution_count": 61,
     "metadata": {},
     "output_type": "execute_result"
    }
   ],
   "source": [
    "scraper_dummy1(test_los)"
   ]
  },
  {
   "cell_type": "code",
   "execution_count": null,
   "metadata": {},
   "outputs": [],
   "source": []
  }
 ],
 "metadata": {
  "kernelspec": {
   "display_name": "Python 3",
   "language": "python",
   "name": "python3"
  },
  "language_info": {
   "codemirror_mode": {
    "name": "ipython",
    "version": 3
   },
   "file_extension": ".py",
   "mimetype": "text/x-python",
   "name": "python",
   "nbconvert_exporter": "python",
   "pygments_lexer": "ipython3",
   "version": "3.6.8"
  }
 },
 "nbformat": 4,
 "nbformat_minor": 2
}
