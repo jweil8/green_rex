{
 "cells": [
  {
   "cell_type": "code",
   "execution_count": 1,
   "metadata": {},
   "outputs": [],
   "source": [
    "from selenium.webdriver import (Chrome, Firefox)\n",
    "import time\n",
    "from Function\\ Documentation import Scrapes.ipynb\n",
    "import requests\n",
    "from bs4 import BeautifulSoup\n",
    "import pymongo"
   ]
  },
  {
   "cell_type": "code",
   "execution_count": 2,
   "metadata": {},
   "outputs": [],
   "source": [
    "url = \"https://www.leafly.com/hybrid/blue-dream/reviews\"\n",
    "url2 = \"https://www.leafly.com/hybrid/blue-dream/reviews?page=2\"\n",
    "sel = \"ul#strain-reviews-container\"\n",
    "#sel = 'button#btc-button btc-button--primary'\n",
    "#<button class=\"btc-button btc-button--primary\" tabindex=\"0\" id=\"tou-continue\">Yes</button>"
   ]
  },
  {
   "cell_type": "code",
   "execution_count": 3,
   "metadata": {},
   "outputs": [],
   "source": [
    "mc = pymongo.MongoClient()  # Connect to the MongoDB server using default settings\n",
    "db = mc['strain_reviews']  # Use (or create) a database called 'election_predictions'\n",
    "docs = db['review']  # Use (or create) a collection called 'docs'"
   ]
  },
  {
   "cell_type": "code",
   "execution_count": 14,
   "metadata": {},
   "outputs": [
    {
     "data": {
      "text/plain": [
       "0"
      ]
     },
     "execution_count": 14,
     "metadata": {},
     "output_type": "execute_result"
    }
   ],
   "source": [
    "docs.count_documents(filter={})"
   ]
  },
  {
   "cell_type": "code",
   "execution_count": 15,
   "metadata": {},
   "outputs": [],
   "source": [
    "docs.drop()"
   ]
  },
  {
   "cell_type": "code",
   "execution_count": 16,
   "metadata": {},
   "outputs": [],
   "source": [
    "def get_url(x,y):\n",
    "    \"\"\"X= number of urls to grab, y= strain name or other thing we are scraping \n",
    "    Pull in urls from a 'Load More' button and the like. Create identical URL's with differing numbers\"\"\"\n",
    "    urls = []\n",
    "    url = 1 \n",
    "    while url < x:\n",
    "        urls.append(\"https://www.leafly.com/%s/reviews?page=%d\" % (y, url))\n",
    "        url += 1 \n",
    "    return urls"
   ]
  },
  {
   "cell_type": "code",
   "execution_count": 23,
   "metadata": {},
   "outputs": [],
   "source": [
    "\n",
    "html= r.content"
   ]
  },
  {
   "cell_type": "code",
   "execution_count": 25,
   "metadata": {},
   "outputs": [],
   "source": [
    "def get_reviews(list):\n",
    "    \"\"\"Pass in a list of URL's and return them in a mongo db table as a dicitonary with \n",
    "    keys{'url', 'html'} and their corresponding values\"\"\"\n",
    "    htmls = []\n",
    "    for i in list:\n",
    "        r = requests.get(i)\n",
    "        htmls.append(r.content)\n",
    "        table_check(i)\n",
    "    results = dict(zip(list, htmls))\n",
    "    return results"
   ]
  },
  {
   "cell_type": "code",
   "execution_count": 26,
   "metadata": {},
   "outputs": [],
   "source": [
    "def table_check(list):\n",
    "    \"\"\"This checks to see if a url is already in my database of reviews\"\"\"\n",
    "    for i in list:\n",
    "        if i in docs.find_one({'url':url}):\n",
    "            None\n",
    "        else:\n",
    "            docs.insert_one({'url': url,\n",
    "                 'html': html\n",
    "                 })"
   ]
  },
  {
   "cell_type": "code",
   "execution_count": 27,
   "metadata": {},
   "outputs": [],
   "source": [
    "def parse_docs(dict):\n",
    "    \"\"\"Parse the HTML docs that we have stored in a dictionary, return as a list. \"\"\"\n",
    "    soup = BeautifulSoup(html, 'html.parser')\n",
    "    for key, value in dict.items():\n",
    "        strain_text = soup.select(\"p.strain-review__text\")\n",
    "    return strain_text"
   ]
  },
  {
   "cell_type": "code",
   "execution_count": 28,
   "metadata": {},
   "outputs": [],
   "source": [
    "blue_dream_reviews = get_url(54, 'hybrid/blue-dream')"
   ]
  },
  {
   "cell_type": "code",
   "execution_count": 29,
   "metadata": {},
   "outputs": [
    {
     "data": {
      "text/plain": [
       "['https://www.leafly.com/hybrid/blue-dream/reviews?page=1',\n",
       " 'https://www.leafly.com/hybrid/blue-dream/reviews?page=2',\n",
       " 'https://www.leafly.com/hybrid/blue-dream/reviews?page=3',\n",
       " 'https://www.leafly.com/hybrid/blue-dream/reviews?page=4',\n",
       " 'https://www.leafly.com/hybrid/blue-dream/reviews?page=5',\n",
       " 'https://www.leafly.com/hybrid/blue-dream/reviews?page=6',\n",
       " 'https://www.leafly.com/hybrid/blue-dream/reviews?page=7',\n",
       " 'https://www.leafly.com/hybrid/blue-dream/reviews?page=8',\n",
       " 'https://www.leafly.com/hybrid/blue-dream/reviews?page=9',\n",
       " 'https://www.leafly.com/hybrid/blue-dream/reviews?page=10',\n",
       " 'https://www.leafly.com/hybrid/blue-dream/reviews?page=11',\n",
       " 'https://www.leafly.com/hybrid/blue-dream/reviews?page=12',\n",
       " 'https://www.leafly.com/hybrid/blue-dream/reviews?page=13',\n",
       " 'https://www.leafly.com/hybrid/blue-dream/reviews?page=14',\n",
       " 'https://www.leafly.com/hybrid/blue-dream/reviews?page=15',\n",
       " 'https://www.leafly.com/hybrid/blue-dream/reviews?page=16',\n",
       " 'https://www.leafly.com/hybrid/blue-dream/reviews?page=17',\n",
       " 'https://www.leafly.com/hybrid/blue-dream/reviews?page=18',\n",
       " 'https://www.leafly.com/hybrid/blue-dream/reviews?page=19',\n",
       " 'https://www.leafly.com/hybrid/blue-dream/reviews?page=20',\n",
       " 'https://www.leafly.com/hybrid/blue-dream/reviews?page=21',\n",
       " 'https://www.leafly.com/hybrid/blue-dream/reviews?page=22',\n",
       " 'https://www.leafly.com/hybrid/blue-dream/reviews?page=23',\n",
       " 'https://www.leafly.com/hybrid/blue-dream/reviews?page=24',\n",
       " 'https://www.leafly.com/hybrid/blue-dream/reviews?page=25',\n",
       " 'https://www.leafly.com/hybrid/blue-dream/reviews?page=26',\n",
       " 'https://www.leafly.com/hybrid/blue-dream/reviews?page=27',\n",
       " 'https://www.leafly.com/hybrid/blue-dream/reviews?page=28',\n",
       " 'https://www.leafly.com/hybrid/blue-dream/reviews?page=29',\n",
       " 'https://www.leafly.com/hybrid/blue-dream/reviews?page=30',\n",
       " 'https://www.leafly.com/hybrid/blue-dream/reviews?page=31',\n",
       " 'https://www.leafly.com/hybrid/blue-dream/reviews?page=32',\n",
       " 'https://www.leafly.com/hybrid/blue-dream/reviews?page=33',\n",
       " 'https://www.leafly.com/hybrid/blue-dream/reviews?page=34',\n",
       " 'https://www.leafly.com/hybrid/blue-dream/reviews?page=35',\n",
       " 'https://www.leafly.com/hybrid/blue-dream/reviews?page=36',\n",
       " 'https://www.leafly.com/hybrid/blue-dream/reviews?page=37',\n",
       " 'https://www.leafly.com/hybrid/blue-dream/reviews?page=38',\n",
       " 'https://www.leafly.com/hybrid/blue-dream/reviews?page=39',\n",
       " 'https://www.leafly.com/hybrid/blue-dream/reviews?page=40',\n",
       " 'https://www.leafly.com/hybrid/blue-dream/reviews?page=41',\n",
       " 'https://www.leafly.com/hybrid/blue-dream/reviews?page=42',\n",
       " 'https://www.leafly.com/hybrid/blue-dream/reviews?page=43',\n",
       " 'https://www.leafly.com/hybrid/blue-dream/reviews?page=44',\n",
       " 'https://www.leafly.com/hybrid/blue-dream/reviews?page=45',\n",
       " 'https://www.leafly.com/hybrid/blue-dream/reviews?page=46',\n",
       " 'https://www.leafly.com/hybrid/blue-dream/reviews?page=47',\n",
       " 'https://www.leafly.com/hybrid/blue-dream/reviews?page=48',\n",
       " 'https://www.leafly.com/hybrid/blue-dream/reviews?page=49',\n",
       " 'https://www.leafly.com/hybrid/blue-dream/reviews?page=50',\n",
       " 'https://www.leafly.com/hybrid/blue-dream/reviews?page=51',\n",
       " 'https://www.leafly.com/hybrid/blue-dream/reviews?page=52',\n",
       " 'https://www.leafly.com/hybrid/blue-dream/reviews?page=53']"
      ]
     },
     "execution_count": 29,
     "metadata": {},
     "output_type": "execute_result"
    }
   ],
   "source": [
    "blue_dream_reviews"
   ]
  },
  {
   "cell_type": "code",
   "execution_count": 30,
   "metadata": {},
   "outputs": [
    {
     "ename": "TypeError",
     "evalue": "argument of type 'NoneType' is not iterable",
     "output_type": "error",
     "traceback": [
      "\u001b[0;31m---------------------------------------------------------------------------\u001b[0m",
      "\u001b[0;31mTypeError\u001b[0m                                 Traceback (most recent call last)",
      "\u001b[0;32m<ipython-input-30-2cfc5be0d821>\u001b[0m in \u001b[0;36m<module>\u001b[0;34m\u001b[0m\n\u001b[0;32m----> 1\u001b[0;31m \u001b[0mtable_check\u001b[0m\u001b[0;34m(\u001b[0m\u001b[0mblue_dream_reviews\u001b[0m\u001b[0;34m)\u001b[0m\u001b[0;34m\u001b[0m\u001b[0;34m\u001b[0m\u001b[0m\n\u001b[0m",
      "\u001b[0;32m<ipython-input-26-12dd898f0a56>\u001b[0m in \u001b[0;36mtable_check\u001b[0;34m(list)\u001b[0m\n\u001b[1;32m      2\u001b[0m     \u001b[0;34m\"\"\"This checks to see if a url is already in my database of reviews\"\"\"\u001b[0m\u001b[0;34m\u001b[0m\u001b[0;34m\u001b[0m\u001b[0m\n\u001b[1;32m      3\u001b[0m     \u001b[0;32mfor\u001b[0m \u001b[0mi\u001b[0m \u001b[0;32min\u001b[0m \u001b[0mlist\u001b[0m\u001b[0;34m:\u001b[0m\u001b[0;34m\u001b[0m\u001b[0;34m\u001b[0m\u001b[0m\n\u001b[0;32m----> 4\u001b[0;31m         \u001b[0;32mif\u001b[0m \u001b[0mi\u001b[0m \u001b[0;32min\u001b[0m \u001b[0mdocs\u001b[0m\u001b[0;34m.\u001b[0m\u001b[0mfind_one\u001b[0m\u001b[0;34m(\u001b[0m\u001b[0;34m{\u001b[0m\u001b[0;34m'url'\u001b[0m\u001b[0;34m:\u001b[0m\u001b[0murl\u001b[0m\u001b[0;34m}\u001b[0m\u001b[0;34m)\u001b[0m\u001b[0;34m:\u001b[0m\u001b[0;34m\u001b[0m\u001b[0;34m\u001b[0m\u001b[0m\n\u001b[0m\u001b[1;32m      5\u001b[0m             \u001b[0;32mNone\u001b[0m\u001b[0;34m\u001b[0m\u001b[0;34m\u001b[0m\u001b[0m\n\u001b[1;32m      6\u001b[0m         \u001b[0;32melse\u001b[0m\u001b[0;34m:\u001b[0m\u001b[0;34m\u001b[0m\u001b[0;34m\u001b[0m\u001b[0m\n",
      "\u001b[0;31mTypeError\u001b[0m: argument of type 'NoneType' is not iterable"
     ]
    }
   ],
   "source": [
    "table_check(blue_dream_reviews)"
   ]
  },
  {
   "cell_type": "code",
   "execution_count": null,
   "metadata": {},
   "outputs": [],
   "source": [
    "bdr = get_reviews(blue_dream_reviews)"
   ]
  },
  {
   "cell_type": "code",
   "execution_count": 567,
   "metadata": {},
   "outputs": [],
   "source": [
    "for x in range(docs.count()):\n",
    "    docs.find_one({})\n",
    "    "
   ]
  },
  {
   "cell_type": "code",
   "execution_count": 240,
   "metadata": {},
   "outputs": [],
   "source": [
    "browser = Chrome()"
   ]
  },
  {
   "cell_type": "code",
   "execution_count": 8,
   "metadata": {},
   "outputs": [
    {
     "name": "stderr",
     "output_type": "stream",
     "text": [
      "/Users/jordanweil/anaconda3/lib/python3.6/site-packages/ipykernel_launcher.py:1: DeprecationWarning: count is deprecated. Use estimated_document_count or count_documents instead. Please note that $where must be replaced by $expr, $near must be replaced by $geoWithin with $center, and $nearSphere must be replaced by $geoWithin with $centerSphere\n",
      "  \"\"\"Entry point for launching an IPython kernel.\n"
     ]
    },
    {
     "data": {
      "text/plain": [
       "108"
      ]
     },
     "execution_count": 8,
     "metadata": {},
     "output_type": "execute_result"
    }
   ],
   "source": [
    "docs.count()"
   ]
  },
  {
   "cell_type": "code",
   "execution_count": 385,
   "metadata": {},
   "outputs": [],
   "source": [
    "get_reviews(tes)"
   ]
  },
  {
   "cell_type": "code",
   "execution_count": 393,
   "metadata": {},
   "outputs": [
    {
     "data": {
      "text/plain": [
       "200"
      ]
     },
     "execution_count": 393,
     "metadata": {},
     "output_type": "execute_result"
    }
   ],
   "source": [
    "r.status_code"
   ]
  },
  {
   "cell_type": "code",
   "execution_count": 426,
   "metadata": {},
   "outputs": [
    {
     "data": {
      "text/plain": [
       "dict_keys(['_id', 'url', 'html'])"
      ]
     },
     "execution_count": 426,
     "metadata": {},
     "output_type": "execute_result"
    }
   ],
   "source": [
    "retrieved_document.keys()"
   ]
  },
  {
   "cell_type": "code",
   "execution_count": 441,
   "metadata": {},
   "outputs": [
    {
     "data": {
      "text/plain": [
       "[<p class=\"strain-review__text\">\"Blue dream is definitely a strain that will quickly make it to your favorites list! With that being said, this strain can be used during both day and night. I noticed that if you smoke a little bit, you'll get more sativa effects and If you smoke a good bit, the indica effects take over. This strain is great for pain, stress/anxiety, appetite issues, sleep issues and much more! No matter how much you smoke, you'll fe...\"</p>,\n",
       " <p class=\"strain-review__text\">\"Blue dream is a jack of all trades hybrid strain for me. it's everywhere, cheap, tastes good, smells good, looks good and has good effects. the best part is that both indica and sativa effects can be felt. it's not my absolute favorite strain but I will never say no to blue dream!\"</p>,\n",
       " <p class=\"strain-review__text\">\"TL:DR - This is easily the best strain I have ever enjoyed, judging by any metric. I'm not only able to tolerate - but have been able to enjoy Blue Dream. It is the strain that has utterly convinced me that there can indeed be marked differences between strains of the same cannabis subspecies. The effects listed on the Leafly strain info are remarkably accurate. Blue Dream is a good strain for happiness, depression, ...\"</p>,\n",
       " <p class=\"strain-review__text\">\"This is the only strain I feel safe vaping before I work. Calmly eases my anxiety and depression without taking any of the sharpness from my mind or distracting me. Makes me feel poised, ready, and confident to take on my day.\"</p>,\n",
       " <p class=\"strain-review__text\">\"Just an all around incredible high. I love analyzing highs and this was by far my favorite to enjoy and contemplate. This is the most flawless 50/50 hybrid imaginable. You are able to control the high whatever way you like. Helped my anxiety, my depression and my headaches. Best of both indica and sativa. Strongly recommend to anyone :)\n",
       " \"</p>,\n",
       " <p class=\"strain-review__text\">\"this bud will have you soaring! I've been smoking regularly for 1 year now and when I got this bud I didn't know what strain it was so I loaded my bong bowl FAT. Blue dream is really kiefy so I put a bunch of kief on top of my already bulging bowl. smoking a bowl of \"regular\" loaded as fat as this one will get me pretty damn high so I thought nothing of it. The smoke was a wee bit harsh and near the end of the bowl I...\"</p>,\n",
       " <p class=\"strain-review__text\">\"-----------INTRODUCTION---------\n",
       " To start this off I'll say this strain is wonderous. So I hit up my dealer asking what he's got and he tells me he has Blue Dream. I quickly  text back that I'll take some but I say it in a way that'll make me seem like I haven't lost my cool. So  I get home from work and my grandma sends me to the store to grab some groceries. I say okay then immediately go upstairs to my room to gri...\"</p>,\n",
       " <p class=\"strain-review__text\">\"I met the love of my life with this strain and it has been my favorite ever since. Sativa like conversation, aphrodisiac, indica like body high (in higher doses). Amazing taste and perfect all-day strain. \"</p>]"
      ]
     },
     "execution_count": 441,
     "metadata": {},
     "output_type": "execute_result"
    }
   ],
   "source": [
    "parse_docs(retrieved_document)"
   ]
  },
  {
   "cell_type": "code",
   "execution_count": 392,
   "metadata": {},
   "outputs": [
    {
     "data": {
      "text/plain": [
       "[<p class=\"strain-review__text\">\"Blue dream is definitely a strain that will quickly make it to your favorites list! With that being said, this strain can be used during both day and night. I noticed that if you smoke a little bit, you'll get more sativa effects and If you smoke a good bit, the indica effects take over. This strain is great for pain, stress/anxiety, appetite issues, sleep issues and much more! No matter how much you smoke, you'll fe...\"</p>,\n",
       " <p class=\"strain-review__text\">\"Blue dream is a jack of all trades hybrid strain for me. it's everywhere, cheap, tastes good, smells good, looks good and has good effects. the best part is that both indica and sativa effects can be felt. it's not my absolute favorite strain but I will never say no to blue dream!\"</p>,\n",
       " <p class=\"strain-review__text\">\"TL:DR - This is easily the best strain I have ever enjoyed, judging by any metric. I'm not only able to tolerate - but have been able to enjoy Blue Dream. It is the strain that has utterly convinced me that there can indeed be marked differences between strains of the same cannabis subspecies. The effects listed on the Leafly strain info are remarkably accurate. Blue Dream is a good strain for happiness, depression, ...\"</p>,\n",
       " <p class=\"strain-review__text\">\"This is the only strain I feel safe vaping before I work. Calmly eases my anxiety and depression without taking any of the sharpness from my mind or distracting me. Makes me feel poised, ready, and confident to take on my day.\"</p>,\n",
       " <p class=\"strain-review__text\">\"Just an all around incredible high. I love analyzing highs and this was by far my favorite to enjoy and contemplate. This is the most flawless 50/50 hybrid imaginable. You are able to control the high whatever way you like. Helped my anxiety, my depression and my headaches. Best of both indica and sativa. Strongly recommend to anyone :)\n",
       " \"</p>,\n",
       " <p class=\"strain-review__text\">\"this bud will have you soaring! I've been smoking regularly for 1 year now and when I got this bud I didn't know what strain it was so I loaded my bong bowl FAT. Blue dream is really kiefy so I put a bunch of kief on top of my already bulging bowl. smoking a bowl of \"regular\" loaded as fat as this one will get me pretty damn high so I thought nothing of it. The smoke was a wee bit harsh and near the end of the bowl I...\"</p>,\n",
       " <p class=\"strain-review__text\">\"-----------INTRODUCTION---------\n",
       " To start this off I'll say this strain is wonderous. So I hit up my dealer asking what he's got and he tells me he has Blue Dream. I quickly  text back that I'll take some but I say it in a way that'll make me seem like I haven't lost my cool. So  I get home from work and my grandma sends me to the store to grab some groceries. I say okay then immediately go upstairs to my room to gri...\"</p>,\n",
       " <p class=\"strain-review__text\">\"I met the love of my life with this strain and it has been my favorite ever since. Sativa like conversation, aphrodisiac, indica like body high (in higher doses). Amazing taste and perfect all-day strain. \"</p>]"
      ]
     },
     "execution_count": 392,
     "metadata": {},
     "output_type": "execute_result"
    }
   ],
   "source": []
  },
  {
   "cell_type": "code",
   "execution_count": 7,
   "metadata": {},
   "outputs": [
    {
     "data": {
      "text/plain": [
       "108"
      ]
     },
     "execution_count": 7,
     "metadata": {},
     "output_type": "execute_result"
    }
   ],
   "source": [
    "docs.count_documents({})"
   ]
  },
  {
   "cell_type": "code",
   "execution_count": null,
   "metadata": {},
   "outputs": [],
   "source": [
    "html"
   ]
  },
  {
   "cell_type": "code",
   "execution_count": null,
   "metadata": {},
   "outputs": [],
   "source": []
  }
 ],
 "metadata": {
  "kernelspec": {
   "display_name": "Python 3",
   "language": "python",
   "name": "python3"
  },
  "language_info": {
   "codemirror_mode": {
    "name": "ipython",
    "version": 3
   },
   "file_extension": ".py",
   "mimetype": "text/x-python",
   "name": "python",
   "nbconvert_exporter": "python",
   "pygments_lexer": "ipython3",
   "version": "3.6.8"
  }
 },
 "nbformat": 4,
 "nbformat_minor": 2
}
