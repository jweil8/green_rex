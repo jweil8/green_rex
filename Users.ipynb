{
 "cells": [
  {
   "cell_type": "code",
   "execution_count": 1,
   "metadata": {},
   "outputs": [],
   "source": [
    "import time\n",
    "import requests\n",
    "from bs4 import BeautifulSoup\n",
    "import pymongo"
   ]
  },
  {
   "cell_type": "code",
   "execution_count": 2,
   "metadata": {},
   "outputs": [],
   "source": [
    "mc = pymongo.MongoClient()  # Connect to the MongoDB server using default settings\n",
    "db = mc['strain_reviews']  # Use (or create) a database called 'election_predictions'\n",
    "users = db['users']  # Use (or create) a collection called 'docs'"
   ]
  },
  {
   "cell_type": "code",
   "execution_count": 26,
   "metadata": {},
   "outputs": [],
   "source": [
    "def grab_users(i):\n",
    "    LU = []\n",
    "    r = requests.get(i)\n",
    "    soupu = BeautifulSoup(r.content, 'html.parser')\n",
    "    users = soupu.find_all('div', {'class': 'strain-review__title'})\n",
    "    for u in users:\n",
    "        temp = u.find('h2')\n",
    "        LU.append(temp.text)\n",
    "    return LU"
   ]
  },
  {
   "cell_type": "code",
   "execution_count": 27,
   "metadata": {},
   "outputs": [
    {
     "data": {
      "text/plain": [
       "['retnolsmiff',\n",
       " 'flyguywill',\n",
       " 'Anonymous',\n",
       " '420IndigoChild',\n",
       " 'LegitLogic',\n",
       " 'petethekoala',\n",
       " 'Josh135',\n",
       " 'chloholio']"
      ]
     },
     "execution_count": 27,
     "metadata": {},
     "output_type": "execute_result"
    }
   ],
   "source": [
    "grab_users('https://www.leafly.com/hybrid/og-kush/reviews')"
   ]
  },
  {
   "cell_type": "code",
   "execution_count": null,
   "metadata": {},
   "outputs": [],
   "source": [
    "news_panel = soup.findAll('div', {'class': 'menuNewsPanel_MenuNews1'})\n",
    "for news in news_panel:\n",
    "    temp = news.find('h2')\n",
    "    if temp:\n",
    "        print temp.text"
   ]
  }
 ],
 "metadata": {
  "kernelspec": {
   "display_name": "Python 3",
   "language": "python",
   "name": "python3"
  },
  "language_info": {
   "codemirror_mode": {
    "name": "ipython",
    "version": 3
   },
   "file_extension": ".py",
   "mimetype": "text/x-python",
   "name": "python",
   "nbconvert_exporter": "python",
   "pygments_lexer": "ipython3",
   "version": "3.6.8"
  }
 },
 "nbformat": 4,
 "nbformat_minor": 2
}
