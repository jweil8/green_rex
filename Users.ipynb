{
 "cells": [
  {
   "cell_type": "code",
   "execution_count": 1,
   "metadata": {},
   "outputs": [],
   "source": [
    "import time\n",
    "import requests\n",
    "from bs4 import BeautifulSoup\n",
    "import pymongo"
   ]
  },
  {
   "cell_type": "code",
   "execution_count": 2,
   "metadata": {},
   "outputs": [],
   "source": [
    "mc = pymongo.MongoClient()  # Connect to the MongoDB server using default settings\n",
    "db = mc['strain_reviews']  # Use (or create) a database called 'election_predictions'\n",
    "users = db['users']  # Use (or create) a collection called 'docs'"
   ]
  },
  {
   "cell_type": "code",
   "execution_count": 29,
   "metadata": {},
   "outputs": [],
   "source": [
    "def get_url(x,y, start=1):\n",
    "    \"\"\"X= number of urls to grab, y= strain name or other thing we are scraping \n",
    "    Pull in urls from a 'Load More' button and the like. Create identical URL's with differing numbers\"\"\"\n",
    "    urls = []\n",
    "    url = start\n",
    "    while url <= x:\n",
    "        urls.append(\"https://www.leafly.com/{}/reviews?page={}\".format(y, url))\n",
    "        url += 1 \n",
    "    return urls"
   ]
  },
  {
   "cell_type": "code",
   "execution_count": 37,
   "metadata": {},
   "outputs": [],
   "source": [
    "#Works!!\n",
    "def grab_users(i):\n",
    "    LU = []\n",
    "    r = requests.get(i)\n",
    "    soupu = BeautifulSoup(r.content, 'html.parser')\n",
    "    users = soupu.find_all('div', {'class': 'strain-review__title'})\n",
    "    for u in users:\n",
    "        temp = u.find('h2')\n",
    "        LU.append(temp.text)\n",
    "    return LU"
   ]
  },
  {
   "cell_type": "code",
   "execution_count": 38,
   "metadata": {},
   "outputs": [
    {
     "data": {
      "text/plain": [
       "['retnolsmiff',\n",
       " 'flyguywill',\n",
       " 'Anonymous',\n",
       " '420IndigoChild',\n",
       " 'LegitLogic',\n",
       " 'petethekoala',\n",
       " 'Josh135',\n",
       " 'chloholio']"
      ]
     },
     "execution_count": 38,
     "metadata": {},
     "output_type": "execute_result"
    }
   ],
   "source": [
    "grab_users('https://www.leafly.com/hybrid/og-kush/reviews')"
   ]
  },
  {
   "cell_type": "code",
   "execution_count": 34,
   "metadata": {},
   "outputs": [],
   "source": [
    "OGK_reviews = get_url(55, 'hybrid/og-kush')"
   ]
  },
  {
   "cell_type": "code",
   "execution_count": 51,
   "metadata": {},
   "outputs": [],
   "source": [
    "#for passing in lists works great\n",
    "def grab_users_from_list(l):\n",
    "    LU = []\n",
    "    htmls = []\n",
    "    for i in l:\n",
    "        r = requests.get(i)\n",
    "        html = (r.content)\n",
    "        htmls.append(html)\n",
    "        soupu = BeautifulSoup(r.content, 'html.parser')\n",
    "        users = soupu.find_all('div', {'class': 'strain-review__title'})\n",
    "        for u in users:\n",
    "            temp = u.find('h2')\n",
    "        LU.append(temp.text)\n",
    "    return set(LU)"
   ]
  },
  {
   "cell_type": "code",
   "execution_count": 52,
   "metadata": {},
   "outputs": [
    {
     "data": {
      "text/plain": [
       "{'Anonymous',\n",
       " 'CannaStrainReviews',\n",
       " 'DaddyGreenthumb',\n",
       " 'Deaonna',\n",
       " 'Fulootron',\n",
       " 'Hotboichipp',\n",
       " 'Ilandmofo',\n",
       " 'JacksonSparrow',\n",
       " 'Rollo.D',\n",
       " 'Subpopsomething',\n",
       " 'TheDutchess420',\n",
       " 'Tomtom4141',\n",
       " 'alexjonesisascooter',\n",
       " 'carl.mart',\n",
       " 'chloholio',\n",
       " 'ferriswag',\n",
       " 'gelldj73',\n",
       " 'hazedandconfused',\n",
       " 'ib9ahhhh',\n",
       " 'mairmair',\n",
       " 'organicsarcasm',\n",
       " 'powpo',\n",
       " 'tessalippy',\n",
       " 'xavier_32'}"
      ]
     },
     "execution_count": 52,
     "metadata": {},
     "output_type": "execute_result"
    }
   ],
   "source": [
    "grab_users_from_list(OGK_reviews)"
   ]
  },
  {
   "cell_type": "raw",
   "metadata": {},
   "source": []
  }
 ],
 "metadata": {
  "kernelspec": {
   "display_name": "Python 3",
   "language": "python",
   "name": "python3"
  },
  "language_info": {
   "codemirror_mode": {
    "name": "ipython",
    "version": 3
   },
   "file_extension": ".py",
   "mimetype": "text/x-python",
   "name": "python",
   "nbconvert_exporter": "python",
   "pygments_lexer": "ipython3",
   "version": "3.6.8"
  }
 },
 "nbformat": 4,
 "nbformat_minor": 2
}
